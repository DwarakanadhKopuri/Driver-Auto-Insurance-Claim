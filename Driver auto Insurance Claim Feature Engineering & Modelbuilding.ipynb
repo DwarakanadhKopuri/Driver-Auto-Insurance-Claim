{
 "cells": [
  {
   "cell_type": "code",
   "execution_count": 3,
   "metadata": {},
   "outputs": [
    {
     "data": {
      "text/html": [
       "        <script type=\"text/javascript\">\n",
       "        window.PlotlyConfig = {MathJaxConfig: 'local'};\n",
       "        if (window.MathJax) {MathJax.Hub.Config({SVG: {font: \"STIX-Web\"}});}\n",
       "        if (typeof require !== 'undefined') {\n",
       "        require.undef(\"plotly\");\n",
       "        requirejs.config({\n",
       "            paths: {\n",
       "                'plotly': ['https://cdn.plot.ly/plotly-latest.min']\n",
       "            }\n",
       "        });\n",
       "        require(['plotly'], function(Plotly) {\n",
       "            window._Plotly = Plotly;\n",
       "        });\n",
       "        }\n",
       "        </script>\n",
       "        "
      ]
     },
     "metadata": {},
     "output_type": "display_data"
    }
   ],
   "source": [
    "# Importing libraries\n",
    "import pandas as pd\n",
    "import numpy as np\n",
    "import matplotlib.pyplot as plt\n",
    "\n",
    "import seaborn as sns\n",
    "import joblib\n",
    "from sklearn.ensemble import RandomForestClassifier\n",
    "\n",
    "import plotly.offline as py\n",
    "py.init_notebook_mode(connected=True)\n",
    "import plotly.graph_objs as go\n",
    "import plotly.tools as tls\n",
    "\n",
    "from scipy.stats import pointbiserialr\n",
    "from scipy.stats import chi2_contingency\n",
    "\n",
    "from sklearn.preprocessing import MinMaxScaler\n",
    "\n",
    "from sklearn.model_selection import train_test_split \n",
    "from sklearn.model_selection import KFold, GridSearchCV\n",
    "\n",
    "from sklearn.linear_model import LogisticRegression \n",
    "from sklearn.ensemble import RandomForestClassifier\n",
    "from xgboost import XGBClassifier\n",
    "from sklearn.ensemble import AdaBoostClassifier\n",
    "from sklearn.neural_network import MLPClassifier\n",
    "from sklearn.svm import LinearSVC\n",
    "\n",
    "from sklearn.metrics import classification_report\n",
    "# Other\n",
    "from IPython.display import Image\n",
    "import configparser\n",
    "import gc # clear RAM\n",
    "import subprocess\n",
    "import warnings\n",
    "import pprint\n",
    "import time\n",
    "import os"
   ]
  },
  {
   "cell_type": "code",
   "execution_count": 4,
   "metadata": {},
   "outputs": [
    {
     "data": {
      "text/html": [
       "<div>\n",
       "<style scoped>\n",
       "    .dataframe tbody tr th:only-of-type {\n",
       "        vertical-align: middle;\n",
       "    }\n",
       "\n",
       "    .dataframe tbody tr th {\n",
       "        vertical-align: top;\n",
       "    }\n",
       "\n",
       "    .dataframe thead th {\n",
       "        text-align: right;\n",
       "    }\n",
       "</style>\n",
       "<table border=\"1\" class=\"dataframe\">\n",
       "  <thead>\n",
       "    <tr style=\"text-align: right;\">\n",
       "      <th></th>\n",
       "      <th>id</th>\n",
       "      <th>target</th>\n",
       "      <th>ps_ind_01</th>\n",
       "      <th>ps_ind_02_cat</th>\n",
       "      <th>ps_ind_03</th>\n",
       "      <th>ps_ind_04_cat</th>\n",
       "      <th>ps_ind_05_cat</th>\n",
       "      <th>ps_ind_06_bin</th>\n",
       "      <th>ps_ind_07_bin</th>\n",
       "      <th>ps_ind_08_bin</th>\n",
       "      <th>...</th>\n",
       "      <th>ps_calc_11</th>\n",
       "      <th>ps_calc_12</th>\n",
       "      <th>ps_calc_13</th>\n",
       "      <th>ps_calc_14</th>\n",
       "      <th>ps_calc_15_bin</th>\n",
       "      <th>ps_calc_16_bin</th>\n",
       "      <th>ps_calc_17_bin</th>\n",
       "      <th>ps_calc_18_bin</th>\n",
       "      <th>ps_calc_19_bin</th>\n",
       "      <th>ps_calc_20_bin</th>\n",
       "    </tr>\n",
       "  </thead>\n",
       "  <tbody>\n",
       "    <tr>\n",
       "      <th>0</th>\n",
       "      <td>7</td>\n",
       "      <td>0</td>\n",
       "      <td>2</td>\n",
       "      <td>2</td>\n",
       "      <td>5</td>\n",
       "      <td>1</td>\n",
       "      <td>0</td>\n",
       "      <td>0</td>\n",
       "      <td>1</td>\n",
       "      <td>0</td>\n",
       "      <td>...</td>\n",
       "      <td>9</td>\n",
       "      <td>1</td>\n",
       "      <td>5</td>\n",
       "      <td>8</td>\n",
       "      <td>0</td>\n",
       "      <td>1</td>\n",
       "      <td>1</td>\n",
       "      <td>0</td>\n",
       "      <td>0</td>\n",
       "      <td>1</td>\n",
       "    </tr>\n",
       "    <tr>\n",
       "      <th>1</th>\n",
       "      <td>9</td>\n",
       "      <td>0</td>\n",
       "      <td>1</td>\n",
       "      <td>1</td>\n",
       "      <td>7</td>\n",
       "      <td>0</td>\n",
       "      <td>0</td>\n",
       "      <td>0</td>\n",
       "      <td>0</td>\n",
       "      <td>1</td>\n",
       "      <td>...</td>\n",
       "      <td>3</td>\n",
       "      <td>1</td>\n",
       "      <td>1</td>\n",
       "      <td>9</td>\n",
       "      <td>0</td>\n",
       "      <td>1</td>\n",
       "      <td>1</td>\n",
       "      <td>0</td>\n",
       "      <td>1</td>\n",
       "      <td>0</td>\n",
       "    </tr>\n",
       "    <tr>\n",
       "      <th>2</th>\n",
       "      <td>13</td>\n",
       "      <td>0</td>\n",
       "      <td>5</td>\n",
       "      <td>4</td>\n",
       "      <td>9</td>\n",
       "      <td>1</td>\n",
       "      <td>0</td>\n",
       "      <td>0</td>\n",
       "      <td>0</td>\n",
       "      <td>1</td>\n",
       "      <td>...</td>\n",
       "      <td>4</td>\n",
       "      <td>2</td>\n",
       "      <td>7</td>\n",
       "      <td>7</td>\n",
       "      <td>0</td>\n",
       "      <td>1</td>\n",
       "      <td>1</td>\n",
       "      <td>0</td>\n",
       "      <td>1</td>\n",
       "      <td>0</td>\n",
       "    </tr>\n",
       "    <tr>\n",
       "      <th>3</th>\n",
       "      <td>16</td>\n",
       "      <td>0</td>\n",
       "      <td>0</td>\n",
       "      <td>1</td>\n",
       "      <td>2</td>\n",
       "      <td>0</td>\n",
       "      <td>0</td>\n",
       "      <td>1</td>\n",
       "      <td>0</td>\n",
       "      <td>0</td>\n",
       "      <td>...</td>\n",
       "      <td>2</td>\n",
       "      <td>2</td>\n",
       "      <td>4</td>\n",
       "      <td>9</td>\n",
       "      <td>0</td>\n",
       "      <td>0</td>\n",
       "      <td>0</td>\n",
       "      <td>0</td>\n",
       "      <td>0</td>\n",
       "      <td>0</td>\n",
       "    </tr>\n",
       "    <tr>\n",
       "      <th>4</th>\n",
       "      <td>17</td>\n",
       "      <td>0</td>\n",
       "      <td>0</td>\n",
       "      <td>2</td>\n",
       "      <td>0</td>\n",
       "      <td>1</td>\n",
       "      <td>0</td>\n",
       "      <td>1</td>\n",
       "      <td>0</td>\n",
       "      <td>0</td>\n",
       "      <td>...</td>\n",
       "      <td>3</td>\n",
       "      <td>1</td>\n",
       "      <td>1</td>\n",
       "      <td>3</td>\n",
       "      <td>0</td>\n",
       "      <td>0</td>\n",
       "      <td>0</td>\n",
       "      <td>1</td>\n",
       "      <td>1</td>\n",
       "      <td>0</td>\n",
       "    </tr>\n",
       "  </tbody>\n",
       "</table>\n",
       "<p>5 rows × 59 columns</p>\n",
       "</div>"
      ],
      "text/plain": [
       "   id  target  ps_ind_01  ps_ind_02_cat  ps_ind_03  ps_ind_04_cat  \\\n",
       "0   7       0          2              2          5              1   \n",
       "1   9       0          1              1          7              0   \n",
       "2  13       0          5              4          9              1   \n",
       "3  16       0          0              1          2              0   \n",
       "4  17       0          0              2          0              1   \n",
       "\n",
       "   ps_ind_05_cat  ps_ind_06_bin  ps_ind_07_bin  ps_ind_08_bin  ...  \\\n",
       "0              0              0              1              0  ...   \n",
       "1              0              0              0              1  ...   \n",
       "2              0              0              0              1  ...   \n",
       "3              0              1              0              0  ...   \n",
       "4              0              1              0              0  ...   \n",
       "\n",
       "   ps_calc_11  ps_calc_12  ps_calc_13  ps_calc_14  ps_calc_15_bin  \\\n",
       "0           9           1           5           8               0   \n",
       "1           3           1           1           9               0   \n",
       "2           4           2           7           7               0   \n",
       "3           2           2           4           9               0   \n",
       "4           3           1           1           3               0   \n",
       "\n",
       "   ps_calc_16_bin  ps_calc_17_bin  ps_calc_18_bin  ps_calc_19_bin  \\\n",
       "0               1               1               0               0   \n",
       "1               1               1               0               1   \n",
       "2               1               1               0               1   \n",
       "3               0               0               0               0   \n",
       "4               0               0               1               1   \n",
       "\n",
       "   ps_calc_20_bin  \n",
       "0               1  \n",
       "1               0  \n",
       "2               0  \n",
       "3               0  \n",
       "4               0  \n",
       "\n",
       "[5 rows x 59 columns]"
      ]
     },
     "execution_count": 4,
     "metadata": {},
     "output_type": "execute_result"
    }
   ],
   "source": [
    "### Let's set working directory and import our data\n",
    "df = pd.read_csv('E:\\\\D_data\\\\Info\\\\A\\\\Nimmetry\\\\train.csv')\n",
    "### and test if everything OK # Getting top 5 observations in the dataset\n",
    "df.head()"
   ]
  },
  {
   "cell_type": "code",
   "execution_count": 5,
   "metadata": {},
   "outputs": [
    {
     "data": {
      "text/plain": [
       "(595212, 59)"
      ]
     },
     "execution_count": 5,
     "metadata": {},
     "output_type": "execute_result"
    }
   ],
   "source": [
    "# No .of rows and columns\n",
    "df.shape"
   ]
  },
  {
   "cell_type": "code",
   "execution_count": 6,
   "metadata": {},
   "outputs": [
    {
     "name": "stdout",
     "output_type": "stream",
     "text": [
      "--- Numerical features --- :  \n",
      " ['ps_ind_01', 'ps_ind_03', 'ps_ind_14', 'ps_ind_15', 'ps_reg_01', 'ps_reg_02', 'ps_reg_03', 'ps_car_11', 'ps_car_12', 'ps_car_13', 'ps_car_14', 'ps_car_15', 'ps_calc_01', 'ps_calc_02', 'ps_calc_03', 'ps_calc_04', 'ps_calc_05', 'ps_calc_06', 'ps_calc_07', 'ps_calc_08', 'ps_calc_09', 'ps_calc_10', 'ps_calc_11', 'ps_calc_12', 'ps_calc_13', 'ps_calc_14'] \n",
      "\n",
      "--- Categorical features --- :  \n",
      " ['ps_ind_02_cat', 'ps_ind_04_cat', 'ps_ind_05_cat', 'ps_car_01_cat', 'ps_car_02_cat', 'ps_car_03_cat', 'ps_car_04_cat', 'ps_car_05_cat', 'ps_car_06_cat', 'ps_car_07_cat', 'ps_car_08_cat', 'ps_car_09_cat', 'ps_car_10_cat', 'ps_car_11_cat'] \n",
      "\n",
      "--- Binary features --- :  \n",
      " ['ps_ind_06_bin', 'ps_ind_07_bin', 'ps_ind_08_bin', 'ps_ind_09_bin', 'ps_ind_10_bin', 'ps_ind_11_bin', 'ps_ind_12_bin', 'ps_ind_13_bin', 'ps_ind_16_bin', 'ps_ind_17_bin', 'ps_ind_18_bin', 'ps_calc_15_bin', 'ps_calc_16_bin', 'ps_calc_17_bin', 'ps_calc_18_bin', 'ps_calc_19_bin', 'ps_calc_20_bin'] \n",
      "\n"
     ]
    }
   ],
   "source": [
    "#Seperating features\n",
    "#The dataset includes numerical, categorical and binary features. The numerical features consist of ordinal  and float values.\n",
    "#Each feature type needs to be treated separately, so first of all we can create three lists of columns for the three feature \n",
    "#types.separate col names into categories\n",
    "cols = df.columns\n",
    "num_feats, cat_feats, bin_feats = [], [], []\n",
    "\n",
    "for col in cols:\n",
    "    if col == 'id' or col == 'target':\n",
    "        pass\n",
    "    elif '_cat' in col:\n",
    "        cat_feats.append(col)\n",
    "    elif '_bin' in col:\n",
    "        bin_feats.append(col)\n",
    "    else:\n",
    "        num_feats.append(col)\n",
    "        \n",
    "print('--- Numerical features --- : ', '\\n', num_feats, '\\n')\n",
    "print('--- Categorical features --- : ', '\\n', cat_feats, '\\n')\n",
    "print('--- Binary features --- : ', '\\n', bin_feats, '\\n')"
   ]
  },
  {
   "cell_type": "code",
   "execution_count": 7,
   "metadata": {},
   "outputs": [
    {
     "name": "stdout",
     "output_type": "stream",
     "text": [
      "No. of numeric features: 26\n",
      "No. of binary features: 17\n",
      "No. of Categorical features: 14\n"
     ]
    }
   ],
   "source": [
    "print ('No. of numeric features: %d'% len(num_feats))\n",
    "print ('No. of binary features: %d' % len(bin_feats))\n",
    "print ('No. of Categorical features: %d' % len(cat_feats))"
   ]
  },
  {
   "cell_type": "code",
   "execution_count": 8,
   "metadata": {},
   "outputs": [],
   "source": [
    "#Data cleansing\n",
    "#The next step is to check how many missing values there are for each feature type. \n",
    "#As a general rule, I like to eliminate features where more than one half of the values are missing.\n",
    "\n",
    "# Although it uses more memory, I prefer to create a new copy of the dataframe for each section\n",
    "df_cleaned = df.copy()\n",
    "\n",
    "# I will also create copies for the feature lists\n",
    "num_feats_cleaned = num_feats.copy()\n",
    "cat_feats_cleaned = cat_feats.copy()\n",
    "bin_feats_cleaned = bin_feats.copy()"
   ]
  },
  {
   "cell_type": "code",
   "execution_count": 9,
   "metadata": {},
   "outputs": [
    {
     "name": "stdout",
     "output_type": "stream",
     "text": [
      "[]\n"
     ]
    }
   ],
   "source": [
    "#Numerical features\n",
    "#Let's check for missing values (-1) in the numerical feature columns.\n",
    "# I would like to eliminate any columns that consist of more than one half missing values (-1)\n",
    "num_many_missing = df_cleaned[num_feats_cleaned][df == -1].count() / len(df) > 0.50 # more than 50% missing values\n",
    "num_many_missing = num_many_missing.index[num_many_missing == True].tolist()\n",
    "print(num_many_missing)\n",
    "#No columns were returned. We can also have a look at exactly how many are missing in the applicable columns."
   ]
  },
  {
   "cell_type": "code",
   "execution_count": 10,
   "metadata": {},
   "outputs": [
    {
     "name": "stdout",
     "output_type": "stream",
     "text": [
      "Column   Missing count   Missing ratio\n",
      "ps_reg_03    107772    0.181\n",
      "ps_car_11    5    0.000\n",
      "ps_car_12    1    0.000\n",
      "ps_car_14    42620    0.072\n"
     ]
    }
   ],
   "source": [
    "counts = df_cleaned[num_feats_cleaned][df == -1].count()\n",
    "cols_with_missing = counts[counts.values > 0]\n",
    "print('Column  ', 'Missing count  ', 'Missing ratio')\n",
    "for col, count in zip(cols_with_missing.index, cols_with_missing.values):\n",
    "    print(col, '  ', count, '  ', '{:.3f}'.format(count / len(df)))"
   ]
  },
  {
   "cell_type": "code",
   "execution_count": 11,
   "metadata": {},
   "outputs": [
    {
     "name": "stderr",
     "output_type": "stream",
     "text": [
      "E:\\Conda\\lib\\site-packages\\ipykernel_launcher.py:4: SettingWithCopyWarning:\n",
      "\n",
      "\n",
      "A value is trying to be set on a copy of a slice from a DataFrame\n",
      "\n",
      "See the caveats in the documentation: https://pandas.pydata.org/pandas-docs/stable/user_guide/indexing.html#returning-a-view-versus-a-copy\n",
      "\n",
      "E:\\Conda\\lib\\site-packages\\ipykernel_launcher.py:4: SettingWithCopyWarning:\n",
      "\n",
      "\n",
      "A value is trying to be set on a copy of a slice from a DataFrame\n",
      "\n",
      "See the caveats in the documentation: https://pandas.pydata.org/pandas-docs/stable/user_guide/indexing.html#returning-a-view-versus-a-copy\n",
      "\n"
     ]
    },
    {
     "data": {
      "text/plain": [
       "0"
      ]
     },
     "execution_count": 11,
     "metadata": {},
     "output_type": "execute_result"
    }
   ],
   "source": [
    "#We can substitute the missing values with the applicable column mean. This will limit their impact on the results.\n",
    "# The few missing values that remain will be substituted with the column mean\n",
    "for col in num_feats_cleaned:\n",
    "    df_cleaned[col][df_cleaned[col] == -1] = df_cleaned[col].mean()\n",
    "# Check that no missing values remain\n",
    "(df_cleaned[num_feats_cleaned] == -1).sum().sum()   # sums instances of true for each column and then sums across columns\n",
    "\n",
    "#Hence , We can be satisfied that no missing values remain."
   ]
  },
  {
   "cell_type": "code",
   "execution_count": 12,
   "metadata": {},
   "outputs": [
    {
     "name": "stdout",
     "output_type": "stream",
     "text": [
      "['ps_car_03_cat']\n"
     ]
    }
   ],
   "source": [
    "#Categorical features\n",
    "#I would like to eliminate any columns that consist of more than one-half missing values (-1). \n",
    "#If features contain a relatively small proportion of missing values, these values can be converted to \n",
    "#dummy variables and may be a useful part of the analysis.\n",
    "cat_many_missing = df_cleaned[cat_feats_cleaned][df == -1].count() / len(df) > 0.5\n",
    "cat_many_missing = cat_many_missing.index[cat_many_missing == True].tolist()\n",
    "print(cat_many_missing)"
   ]
  },
  {
   "cell_type": "code",
   "execution_count": 13,
   "metadata": {},
   "outputs": [
    {
     "name": "stdout",
     "output_type": "stream",
     "text": [
      "Column   Missing count   Missing ratio\n",
      "ps_ind_02_cat    216    0.000\n",
      "ps_ind_04_cat    83    0.000\n",
      "ps_ind_05_cat    5809    0.010\n",
      "ps_car_01_cat    107    0.000\n",
      "ps_car_03_cat    411231    0.691\n",
      "ps_car_05_cat    266551    0.448\n",
      "ps_car_07_cat    11489    0.019\n",
      "ps_car_09_cat    569    0.001\n"
     ]
    }
   ],
   "source": [
    "# We can also have a look exactly how many are missing in the applicable columns\n",
    "counts = df_cleaned[cat_feats_cleaned][df == -1].count()\n",
    "cols_with_missing = counts[counts.values > 0]\n",
    "print('Column  ', 'Missing count  ', 'Missing ratio')\n",
    "for col, count in zip(cols_with_missing.index, cols_with_missing.values):\n",
    "    print(col, '  ', count, '  ', '{:.3f}'.format(count / len(df)))"
   ]
  },
  {
   "cell_type": "code",
   "execution_count": 14,
   "metadata": {},
   "outputs": [],
   "source": [
    "#Now I will remove the one column that I identified.\n",
    "df_cleaned.drop(columns=cat_many_missing, inplace=True)"
   ]
  },
  {
   "cell_type": "code",
   "execution_count": 15,
   "metadata": {},
   "outputs": [],
   "source": [
    "# The cat_feats list needs to be updated\n",
    "for i in cat_many_missing: cat_feats_cleaned.remove(i)\n",
    "#Remaing missing values will be converted to dummy variables during the feature engineering stage."
   ]
  },
  {
   "cell_type": "code",
   "execution_count": 16,
   "metadata": {},
   "outputs": [
    {
     "name": "stdout",
     "output_type": "stream",
     "text": [
      "[]\n"
     ]
    }
   ],
   "source": [
    "#Binary features\n",
    "#Let's now check for missing values among the binary features.\n",
    "\n",
    "bin_many_missing = df_cleaned[bin_feats_cleaned][df == -1].count() / len(df) > 0.5\n",
    "bin_many_missing = bin_many_missing.index[bin_many_missing == True].tolist()\n",
    "print(bin_many_missing)"
   ]
  },
  {
   "cell_type": "code",
   "execution_count": 17,
   "metadata": {},
   "outputs": [
    {
     "data": {
      "text/plain": [
       "Series([], dtype: int64)"
      ]
     },
     "execution_count": 17,
     "metadata": {},
     "output_type": "execute_result"
    }
   ],
   "source": [
    "#We can be sure that there are no features with more than half of there values missing. \n",
    "#Let's just make sure that no values at all are missing for the binary features.\n",
    "# Lets check for missing values, in case any exist\n",
    "counts = df_cleaned[bin_feats_cleaned][df == -1].count()\n",
    "cols_with_missing = counts[counts.values > 0]\n",
    "cols_with_missing"
   ]
  },
  {
   "cell_type": "code",
   "execution_count": 18,
   "metadata": {},
   "outputs": [
    {
     "data": {
      "text/plain": [
       "<matplotlib.axes._subplots.AxesSubplot at 0x1e80fd0d948>"
      ]
     },
     "execution_count": 18,
     "metadata": {},
     "output_type": "execute_result"
    },
    {
     "data": {
      "image/png": "[encoded data removed]",
      "text/plain": [
       "<Figure size 1080x720 with 2 Axes>"
      ]
     },
     "metadata": {
      "needs_background": "light"
     },
     "output_type": "display_data"
    }
   ],
   "source": [
    "#Exploratory data analysis\n",
    "#In this section, I will first explore the correlation between numerical features and \n",
    "#then I will explore the correlation between each feature and the target variable.\n",
    "\n",
    "#Numerical features of float type\n",
    "\n",
    "# First of all, we only want to select float values\n",
    "df_float = df_cleaned.select_dtypes(['float64'])\n",
    "df_corr = df_float.corr().abs()\n",
    "# Setting a filter for values of 1 or less than 0.5\n",
    "filter = (df_corr == 1) | (df_corr < 0.5)\n",
    "# We can filter out values by setting them to 0\n",
    "df_corr[filter] = 0\n",
    "df_corr\n",
    "\n",
    "f, ax = plt.subplots(figsize=(15, 10))\n",
    "plt.title(\"\\nPearson correlation of numeric features\\n\", size=24)\n",
    "sns.heatmap(df_corr, annot=True, annot_kws={'size': 14},\n",
    "            cmap=sns.diverging_palette(220, 20, n=11))\n",
    "\n",
    "\n",
    "#We can see that there are strong correlations between four pairs of features.\n",
    "\n",
    "#Let's look at pair plots of the strongly correlated variables. \n",
    "#This way we can gain insight into the linear correlations between the features."
   ]
  },
  {
   "cell_type": "code",
   "execution_count": 19,
   "metadata": {},
   "outputs": [
    {
     "name": "stdout",
     "output_type": "stream",
     "text": [
      "PS_CAR_11  | Correlation:  -0.0012200059764356686 | P-value:  0.3465855778814675\n",
      "PS_CALC_01  | Correlation:  0.0017819546519205688 | P-value:  0.1692009225762702\n",
      "PS_CALC_02  | Correlation:  0.0013596889783313768 | P-value:  0.29417898872429776\n",
      "PS_CALC_03  | Correlation:  0.0019069735964084597 | P-value:  0.14122944863624004\n",
      "PS_CALC_04  | Correlation:  3.2720455100513886e-05 | P-value:  0.9798605213204049\n",
      "PS_CALC_05  | Correlation:  0.0007708801365325178 | P-value:  0.5520221328272643\n",
      "PS_CALC_06  | Correlation:  8.182225978058816e-05 | P-value:  0.9496663862997508\n",
      "PS_CALC_07  | Correlation:  -0.00010347690485252616 | P-value:  0.9363706750415502\n",
      "PS_CALC_08  | Correlation:  -0.0010058548384190228 | P-value:  0.4377398857962218\n",
      "PS_CALC_09  | Correlation:  0.0007189675843641383 | P-value:  0.579111996896382\n",
      "PS_CALC_10  | Correlation:  0.001060834044478951 | P-value:  0.4131106666326748\n",
      "PS_CALC_11  | Correlation:  0.000371437394891013 | P-value:  0.7744467192571259\n",
      "PS_CALC_12  | Correlation:  -0.0011325853981359283 | P-value:  0.3822337726938518\n",
      "PS_CALC_13  | Correlation:  -0.0004464645318085574 | P-value:  0.7305104420166328\n",
      "PS_CALC_14  | Correlation:  0.0013622753431191705 | P-value:  0.2932615808570199\n"
     ]
    }
   ],
   "source": [
    "# check correlation between cols and target\n",
    "num_weak_corr = []\n",
    "for col in num_feats_cleaned:\n",
    "    corr, p = pointbiserialr(df_cleaned[col], df_cleaned['target'])\n",
    "    if p > .05:\n",
    "        print(col.upper(), ' | Correlation: ', corr, '| P-value: ', p)\n",
    "        num_weak_corr.append(col)"
   ]
  },
  {
   "cell_type": "code",
   "execution_count": 20,
   "metadata": {},
   "outputs": [
    {
     "name": "stdout",
     "output_type": "stream",
     "text": [
      "PS_CAR_10_CAT  | Chi2:  0.6489747744859562  | p-value:  0.7228978253269899\n"
     ]
    }
   ],
   "source": [
    "#Categorical features\n",
    "#For checking correlation between the categorical features and the target variable, we can create a crosstab table\n",
    "#using Pandas and apply the Chi-squared tool to determine a p-value. Once again, \n",
    "#if the p-value is more than 0.05, then we could reject that feature.\n",
    "\n",
    "cat_weak_corr = []\n",
    "for col in cat_feats_cleaned:\n",
    "    crosstab = pd.crosstab( df['target'], df_cleaned[col],  rownames = ['target'] , colnames =['feature'])\n",
    "    chi2, p, dof, ex = chi2_contingency(crosstab, correction=False)\n",
    "    if p > 0.05:\n",
    "        print(col.upper(), ' | Chi2: ', chi2, ' | p-value: ', p)\n",
    "        cat_weak_corr.append(col)\n",
    "#It appears that all but one of the categorical features are worth keeping."
   ]
  },
  {
   "cell_type": "code",
   "execution_count": 21,
   "metadata": {},
   "outputs": [
    {
     "name": "stdout",
     "output_type": "stream",
     "text": [
      "PS_IND_10_BIN  | Chi2:  1.4908391520731943  | p-value:  0.22208630630633355\n",
      "PS_IND_11_BIN  | Chi2:  2.192129807260059  | p-value:  0.13871738717830912\n",
      "PS_IND_13_BIN  | Chi2:  3.188775952779365  | p-value:  0.07414551103659972\n",
      "PS_CALC_15_BIN  | Chi2:  0.135285302884501  | p-value:  0.7130137900732124\n",
      "PS_CALC_16_BIN  | Chi2:  0.22479812854296694  | p-value:  0.6354080551735377\n",
      "PS_CALC_17_BIN  | Chi2:  0.015449567540015549  | p-value:  0.9010806852088695\n",
      "PS_CALC_18_BIN  | Chi2:  0.17519257769002702  | p-value:  0.6755376371151457\n",
      "PS_CALC_19_BIN  | Chi2:  1.7905405627285798  | p-value:  0.1808603146226591\n",
      "PS_CALC_20_BIN  | Chi2:  0.6685114869634994  | p-value:  0.413571052217771\n"
     ]
    }
   ],
   "source": [
    "#Binary features\n",
    "#We can do the same for the binary variables as we did for the categorical variables.\n",
    "bin_weak_corr = []\n",
    "for col in bin_feats_cleaned:\n",
    "    crosstab = pd.crosstab( df['target'], df_cleaned[col],  rownames = ['target'] , colnames =['feature'])\n",
    "    chi2, p, dof, ex = chi2_contingency(crosstab)\n",
    "    if p > 0.05:\n",
    "        print(col.upper(), ' | Chi2: ', chi2, ' | p-value: ', p)\n",
    "        bin_weak_corr.append(col)"
   ]
  },
  {
   "cell_type": "code",
   "execution_count": 22,
   "metadata": {},
   "outputs": [
    {
     "name": "stdout",
     "output_type": "stream",
     "text": [
      "--- COMPLETE ---\n"
     ]
    }
   ],
   "source": [
    "#Using classification tools\n",
    "#Another approach is to use a classication tool - such as random forest - to determine the importance of each feature.\n",
    "#We can achieve this by fitting a model and then calling the feature_importances method.\n",
    "# Sets up a classifier and fits a model to all features of the dataset\n",
    "clf = RandomForestClassifier(n_estimators=150, max_depth=8, min_samples_leaf=4, max_features=0.2, n_jobs=-1, random_state=0)\n",
    "clf.fit(df_cleaned.drop(['id', 'target'],axis=1), df_cleaned['target'])\n",
    "# We need a list of features as well\n",
    "features = df_cleaned.drop(['id', 'target'],axis=1).columns.values\n",
    "print(\"--- COMPLETE ---\")"
   ]
  },
  {
   "cell_type": "code",
   "execution_count": 23,
   "metadata": {},
   "outputs": [
    {
     "data": {
      "text/plain": [
       "['clf_model.pkl']"
      ]
     },
     "execution_count": 23,
     "metadata": {},
     "output_type": "execute_result"
    }
   ],
   "source": [
    "joblib.dump(clf, 'clf_model.pkl')"
   ]
  },
  {
   "cell_type": "code",
   "execution_count": 24,
   "metadata": {},
   "outputs": [
    {
     "data": {
      "application/vnd.plotly.v1+json": {
       "config": {
        "linkText": "Export to plot.ly",
        "plotlyServerURL": "https://plot.ly",
        "showLink": false
       },
       "data": [
        {
         "marker": {
          "color": [
           0.0004103841098142345,
           0.0006106860367380346,
           0.0009150539343833182,
           0.001207482177366205,
           0.0013460631152604036,
           0.0017826629632753798,
           0.00198861101967581,
           0.0022300683149961377,
           0.002233708902779629,
           0.002334136671310185,
           0.0023895562973426797,
           0.002474218227498505,
           0.0024902221111195305,
           0.003965336318280382,
           0.004593581450746388,
           0.004731938417326481,
           0.006908613326149673,
           0.007895833601363964,
           0.008113718360158098,
           0.008684059902365282,
           0.00908463996951658,
           0.009258099279449105,
           0.009487899915921227,
           0.010449328157024413,
           0.010701116541925317,
           0.010828867449049576,
           0.011370980349247908,
           0.011618205210900954,
           0.011893215283430531,
           0.012006358062937714,
           0.012096756254500617,
           0.013986149235899935,
           0.014095019379364334,
           0.014594097319926148,
           0.0155444574347585,
           0.01569230358768901,
           0.01647449015051489,
           0.017004242173101362,
           0.017140261645788708,
           0.018001347113009044,
           0.018310828041094917,
           0.01881921611035361,
           0.018992794776938837,
           0.022537754820251884,
           0.025684911534433655,
           0.02618539878898033,
           0.026268435655700268,
           0.02958316087023743,
           0.029584035648845645,
           0.03478523266666995,
           0.038297299857715336,
           0.04050054426427717,
           0.05752432238348098,
           0.0754584750251459,
           0.07915580048493567,
           0.12967801929903222
          ],
          "reversescale": true
         },
         "name": "Random Forest Feature importance",
         "orientation": "h",
         "type": "bar",
         "x": [
          0.0004103841098142345,
          0.0006106860367380346,
          0.0009150539343833182,
          0.001207482177366205,
          0.0013460631152604036,
          0.0017826629632753798,
          0.00198861101967581,
          0.0022300683149961377,
          0.002233708902779629,
          0.002334136671310185,
          0.0023895562973426797,
          0.002474218227498505,
          0.0024902221111195305,
          0.003965336318280382,
          0.004593581450746388,
          0.004731938417326481,
          0.006908613326149673,
          0.007895833601363964,
          0.008113718360158098,
          0.008684059902365282,
          0.00908463996951658,
          0.009258099279449105,
          0.009487899915921227,
          0.010449328157024413,
          0.010701116541925317,
          0.010828867449049576,
          0.011370980349247908,
          0.011618205210900954,
          0.011893215283430531,
          0.012006358062937714,
          0.012096756254500617,
          0.013986149235899935,
          0.014095019379364334,
          0.014594097319926148,
          0.0155444574347585,
          0.01569230358768901,
          0.01647449015051489,
          0.017004242173101362,
          0.017140261645788708,
          0.018001347113009044,
          0.018310828041094917,
          0.01881921611035361,
          0.018992794776938837,
          0.022537754820251884,
          0.025684911534433655,
          0.02618539878898033,
          0.026268435655700268,
          0.02958316087023743,
          0.029584035648845645,
          0.03478523266666995,
          0.038297299857715336,
          0.04050054426427717,
          0.05752432238348098,
          0.0754584750251459,
          0.07915580048493567,
          0.12967801929903222
         ],
         "y": [
          "ps_ind_10_bin",
          "ps_ind_13_bin",
          "ps_ind_11_bin",
          "ps_ind_12_bin",
          "ps_calc_15_bin",
          "ps_calc_20_bin",
          "ps_ind_18_bin",
          "ps_calc_18_bin",
          "ps_car_10_cat",
          "ps_calc_16_bin",
          "ps_ind_14",
          "ps_calc_19_bin",
          "ps_calc_17_bin",
          "ps_ind_09_bin",
          "ps_car_08_cat",
          "ps_ind_08_bin",
          "ps_car_11",
          "ps_calc_04",
          "ps_car_05_cat",
          "ps_calc_09",
          "ps_car_09_cat",
          "ps_calc_06",
          "ps_calc_12",
          "ps_car_02_cat",
          "ps_calc_05",
          "ps_calc_07",
          "ps_calc_08",
          "ps_calc_02",
          "ps_calc_13",
          "ps_calc_01",
          "ps_calc_03",
          "ps_ind_02_cat",
          "ps_car_11_cat",
          "ps_car_06_cat",
          "ps_reg_01",
          "ps_ind_16_bin",
          "ps_calc_14",
          "ps_calc_11",
          "ps_ind_01",
          "ps_calc_10",
          "ps_ind_04_cat",
          "ps_ind_06_bin",
          "ps_car_15",
          "ps_ind_07_bin",
          "ps_car_12",
          "ps_ind_15",
          "ps_car_01_cat",
          "ps_car_14",
          "ps_car_04_cat",
          "ps_car_07_cat",
          "ps_ind_03",
          "ps_reg_02",
          "ps_ind_17_bin",
          "ps_reg_03",
          "ps_ind_05_cat",
          "ps_car_13"
         ]
        }
       ],
       "layout": {
        "height": 1500,
        "template": {
         "data": {
          "bar": [
           {
            "error_x": {
             "color": "#2a3f5f"
            },
            "error_y": {
             "color": "#2a3f5f"
            },
            "marker": {
             "line": {
              "color": "#E5ECF6",
              "width": 0.5
             }
            },
            "type": "bar"
           }
          ],
          "barpolar": [
           {
            "marker": {
             "line": {
              "color": "#E5ECF6",
              "width": 0.5
             }
            },
            "type": "barpolar"
           }
          ],
          "carpet": [
           {
            "aaxis": {
             "endlinecolor": "#2a3f5f",
             "gridcolor": "white",
             "linecolor": "white",
             "minorgridcolor": "white",
             "startlinecolor": "#2a3f5f"
            },
            "baxis": {
             "endlinecolor": "#2a3f5f",
             "gridcolor": "white",
             "linecolor": "white",
             "minorgridcolor": "white",
             "startlinecolor": "#2a3f5f"
            },
            "type": "carpet"
           }
          ],
          "choropleth": [
           {
            "colorbar": {
             "outlinewidth": 0,
             "ticks": ""
            },
            "type": "choropleth"
           }
          ],
          "contour": [
           {
            "colorbar": {
             "outlinewidth": 0,
             "ticks": ""
            },
            "colorscale": [
             [
              0,
              "#0d0887"
             ],
             [
              0.1111111111111111,
              "#46039f"
             ],
             [
              0.2222222222222222,
              "#7201a8"
             ],
             [
              0.3333333333333333,
              "#9c179e"
             ],
             [
              0.4444444444444444,
              "#bd3786"
             ],
             [
              0.5555555555555556,
              "#d8576b"
             ],
             [
              0.6666666666666666,
              "#ed7953"
             ],
             [
              0.7777777777777778,
              "#fb9f3a"
             ],
             [
              0.8888888888888888,
              "#fdca26"
             ],
             [
              1,
              "#f0f921"
             ]
            ],
            "type": "contour"
           }
          ],
          "contourcarpet": [
           {
            "colorbar": {
             "outlinewidth": 0,
             "ticks": ""
            },
            "type": "contourcarpet"
           }
          ],
          "heatmap": [
           {
            "colorbar": {
             "outlinewidth": 0,
             "ticks": ""
            },
            "colorscale": [
             [
              0,
              "#0d0887"
             ],
             [
              0.1111111111111111,
              "#46039f"
             ],
             [
              0.2222222222222222,
              "#7201a8"
             ],
             [
              0.3333333333333333,
              "#9c179e"
             ],
             [
              0.4444444444444444,
              "#bd3786"
             ],
             [
              0.5555555555555556,
              "#d8576b"
             ],
             [
              0.6666666666666666,
              "#ed7953"
             ],
             [
              0.7777777777777778,
              "#fb9f3a"
             ],
             [
              0.8888888888888888,
              "#fdca26"
             ],
             [
              1,
              "#f0f921"
             ]
            ],
            "type": "heatmap"
           }
          ],
          "heatmapgl": [
           {
            "colorbar": {
             "outlinewidth": 0,
             "ticks": ""
            },
            "colorscale": [
             [
              0,
              "#0d0887"
             ],
             [
              0.1111111111111111,
              "#46039f"
             ],
             [
              0.2222222222222222,
              "#7201a8"
             ],
             [
              0.3333333333333333,
              "#9c179e"
             ],
             [
              0.4444444444444444,
              "#bd3786"
             ],
             [
              0.5555555555555556,
              "#d8576b"
             ],
             [
              0.6666666666666666,
              "#ed7953"
             ],
             [
              0.7777777777777778,
              "#fb9f3a"
             ],
             [
              0.8888888888888888,
              "#fdca26"
             ],
             [
              1,
              "#f0f921"
             ]
            ],
            "type": "heatmapgl"
           }
          ],
          "histogram": [
           {
            "marker": {
             "colorbar": {
              "outlinewidth": 0,
              "ticks": ""
             }
            },
            "type": "histogram"
           }
          ],
          "histogram2d": [
           {
            "colorbar": {
             "outlinewidth": 0,
             "ticks": ""
            },
            "colorscale": [
             [
              0,
              "#0d0887"
             ],
             [
              0.1111111111111111,
              "#46039f"
             ],
             [
              0.2222222222222222,
              "#7201a8"
             ],
             [
              0.3333333333333333,
              "#9c179e"
             ],
             [
              0.4444444444444444,
              "#bd3786"
             ],
             [
              0.5555555555555556,
              "#d8576b"
             ],
             [
              0.6666666666666666,
              "#ed7953"
             ],
             [
              0.7777777777777778,
              "#fb9f3a"
             ],
             [
              0.8888888888888888,
              "#fdca26"
             ],
             [
              1,
              "#f0f921"
             ]
            ],
            "type": "histogram2d"
           }
          ],
          "histogram2dcontour": [
           {
            "colorbar": {
             "outlinewidth": 0,
             "ticks": ""
            },
            "colorscale": [
             [
              0,
              "#0d0887"
             ],
             [
              0.1111111111111111,
              "#46039f"
             ],
             [
              0.2222222222222222,
              "#7201a8"
             ],
             [
              0.3333333333333333,
              "#9c179e"
             ],
             [
              0.4444444444444444,
              "#bd3786"
             ],
             [
              0.5555555555555556,
              "#d8576b"
             ],
             [
              0.6666666666666666,
              "#ed7953"
             ],
             [
              0.7777777777777778,
              "#fb9f3a"
             ],
             [
              0.8888888888888888,
              "#fdca26"
             ],
             [
              1,
              "#f0f921"
             ]
            ],
            "type": "histogram2dcontour"
           }
          ],
          "mesh3d": [
           {
            "colorbar": {
             "outlinewidth": 0,
             "ticks": ""
            },
            "type": "mesh3d"
           }
          ],
          "parcoords": [
           {
            "line": {
             "colorbar": {
              "outlinewidth": 0,
              "ticks": ""
             }
            },
            "type": "parcoords"
           }
          ],
          "pie": [
           {
            "automargin": true,
            "type": "pie"
           }
          ],
          "scatter": [
           {
            "marker": {
             "colorbar": {
              "outlinewidth": 0,
              "ticks": ""
             }
            },
            "type": "scatter"
           }
          ],
          "scatter3d": [
           {
            "line": {
             "colorbar": {
              "outlinewidth": 0,
              "ticks": ""
             }
            },
            "marker": {
             "colorbar": {
              "outlinewidth": 0,
              "ticks": ""
             }
            },
            "type": "scatter3d"
           }
          ],
          "scattercarpet": [
           {
            "marker": {
             "colorbar": {
              "outlinewidth": 0,
              "ticks": ""
             }
            },
            "type": "scattercarpet"
           }
          ],
          "scattergeo": [
           {
            "marker": {
             "colorbar": {
              "outlinewidth": 0,
              "ticks": ""
             }
            },
            "type": "scattergeo"
           }
          ],
          "scattergl": [
           {
            "marker": {
             "colorbar": {
              "outlinewidth": 0,
              "ticks": ""
             }
            },
            "type": "scattergl"
           }
          ],
          "scattermapbox": [
           {
            "marker": {
             "colorbar": {
              "outlinewidth": 0,
              "ticks": ""
             }
            },
            "type": "scattermapbox"
           }
          ],
          "scatterpolar": [
           {
            "marker": {
             "colorbar": {
              "outlinewidth": 0,
              "ticks": ""
             }
            },
            "type": "scatterpolar"
           }
          ],
          "scatterpolargl": [
           {
            "marker": {
             "colorbar": {
              "outlinewidth": 0,
              "ticks": ""
             }
            },
            "type": "scatterpolargl"
           }
          ],
          "scatterternary": [
           {
            "marker": {
             "colorbar": {
              "outlinewidth": 0,
              "ticks": ""
             }
            },
            "type": "scatterternary"
           }
          ],
          "surface": [
           {
            "colorbar": {
             "outlinewidth": 0,
             "ticks": ""
            },
            "colorscale": [
             [
              0,
              "#0d0887"
             ],
             [
              0.1111111111111111,
              "#46039f"
             ],
             [
              0.2222222222222222,
              "#7201a8"
             ],
             [
              0.3333333333333333,
              "#9c179e"
             ],
             [
              0.4444444444444444,
              "#bd3786"
             ],
             [
              0.5555555555555556,
              "#d8576b"
             ],
             [
              0.6666666666666666,
              "#ed7953"
             ],
             [
              0.7777777777777778,
              "#fb9f3a"
             ],
             [
              0.8888888888888888,
              "#fdca26"
             ],
             [
              1,
              "#f0f921"
             ]
            ],
            "type": "surface"
           }
          ],
          "table": [
           {
            "cells": {
             "fill": {
              "color": "#EBF0F8"
             },
             "line": {
              "color": "white"
             }
            },
            "header": {
             "fill": {
              "color": "#C8D4E3"
             },
             "line": {
              "color": "white"
             }
            },
            "type": "table"
           }
          ]
         },
         "layout": {
          "annotationdefaults": {
           "arrowcolor": "#2a3f5f",
           "arrowhead": 0,
           "arrowwidth": 1
          },
          "coloraxis": {
           "colorbar": {
            "outlinewidth": 0,
            "ticks": ""
           }
          },
          "colorscale": {
           "diverging": [
            [
             0,
             "#8e0152"
            ],
            [
             0.1,
             "#c51b7d"
            ],
            [
             0.2,
             "#de77ae"
            ],
            [
             0.3,
             "#f1b6da"
            ],
            [
             0.4,
             "#fde0ef"
            ],
            [
             0.5,
             "#f7f7f7"
            ],
            [
             0.6,
             "#e6f5d0"
            ],
            [
             0.7,
             "#b8e186"
            ],
            [
             0.8,
             "#7fbc41"
            ],
            [
             0.9,
             "#4d9221"
            ],
            [
             1,
             "#276419"
            ]
           ],
           "sequential": [
            [
             0,
             "#0d0887"
            ],
            [
             0.1111111111111111,
             "#46039f"
            ],
            [
             0.2222222222222222,
             "#7201a8"
            ],
            [
             0.3333333333333333,
             "#9c179e"
            ],
            [
             0.4444444444444444,
             "#bd3786"
            ],
            [
             0.5555555555555556,
             "#d8576b"
            ],
            [
             0.6666666666666666,
             "#ed7953"
            ],
            [
             0.7777777777777778,
             "#fb9f3a"
            ],
            [
             0.8888888888888888,
             "#fdca26"
            ],
            [
             1,
             "#f0f921"
            ]
           ],
           "sequentialminus": [
            [
             0,
             "#0d0887"
            ],
            [
             0.1111111111111111,
             "#46039f"
            ],
            [
             0.2222222222222222,
             "#7201a8"
            ],
            [
             0.3333333333333333,
             "#9c179e"
            ],
            [
             0.4444444444444444,
             "#bd3786"
            ],
            [
             0.5555555555555556,
             "#d8576b"
            ],
            [
             0.6666666666666666,
             "#ed7953"
            ],
            [
             0.7777777777777778,
             "#fb9f3a"
            ],
            [
             0.8888888888888888,
             "#fdca26"
            ],
            [
             1,
             "#f0f921"
            ]
           ]
          },
          "colorway": [
           "#636efa",
           "#EF553B",
           "#00cc96",
           "#ab63fa",
           "#FFA15A",
           "#19d3f3",
           "#FF6692",
           "#B6E880",
           "#FF97FF",
           "#FECB52"
          ],
          "font": {
           "color": "#2a3f5f"
          },
          "geo": {
           "bgcolor": "white",
           "lakecolor": "white",
           "landcolor": "#E5ECF6",
           "showlakes": true,
           "showland": true,
           "subunitcolor": "white"
          },
          "hoverlabel": {
           "align": "left"
          },
          "hovermode": "closest",
          "mapbox": {
           "style": "light"
          },
          "paper_bgcolor": "white",
          "plot_bgcolor": "#E5ECF6",
          "polar": {
           "angularaxis": {
            "gridcolor": "white",
            "linecolor": "white",
            "ticks": ""
           },
           "bgcolor": "#E5ECF6",
           "radialaxis": {
            "gridcolor": "white",
            "linecolor": "white",
            "ticks": ""
           }
          },
          "scene": {
           "xaxis": {
            "backgroundcolor": "#E5ECF6",
            "gridcolor": "white",
            "gridwidth": 2,
            "linecolor": "white",
            "showbackground": true,
            "ticks": "",
            "zerolinecolor": "white"
           },
           "yaxis": {
            "backgroundcolor": "#E5ECF6",
            "gridcolor": "white",
            "gridwidth": 2,
            "linecolor": "white",
            "showbackground": true,
            "ticks": "",
            "zerolinecolor": "white"
           },
           "zaxis": {
            "backgroundcolor": "#E5ECF6",
            "gridcolor": "white",
            "gridwidth": 2,
            "linecolor": "white",
            "showbackground": true,
            "ticks": "",
            "zerolinecolor": "white"
           }
          },
          "shapedefaults": {
           "line": {
            "color": "#2a3f5f"
           }
          },
          "ternary": {
           "aaxis": {
            "gridcolor": "white",
            "linecolor": "white",
            "ticks": ""
           },
           "baxis": {
            "gridcolor": "white",
            "linecolor": "white",
            "ticks": ""
           },
           "bgcolor": "#E5ECF6",
           "caxis": {
            "gridcolor": "white",
            "linecolor": "white",
            "ticks": ""
           }
          },
          "title": {
           "x": 0.05
          },
          "xaxis": {
           "automargin": true,
           "gridcolor": "white",
           "linecolor": "white",
           "ticks": "",
           "title": {
            "standoff": 15
           },
           "zerolinecolor": "white",
           "zerolinewidth": 2
          },
          "yaxis": {
           "automargin": true,
           "gridcolor": "white",
           "linecolor": "white",
           "ticks": "",
           "title": {
            "standoff": 15
           },
           "zerolinecolor": "white",
           "zerolinewidth": 2
          }
         }
        },
        "title": {
         "text": "Ranking of most influential features"
        },
        "width": 900,
        "yaxis": {
         "showgrid": false,
         "showline": false,
         "showticklabels": true
        }
       }
      },
      "text/html": [
       "<div>\n",
       "        \n",
       "        \n",
       "            <div id=\"6e989614-2d41-49a9-bb83-4b002dd4ce2f\" class=\"plotly-graph-div\" style=\"height:1500px; width:900px;\"></div>\n",
       "            <script type=\"text/javascript\">\n",
       "                require([\"plotly\"], function(Plotly) {\n",
       "                    window.PLOTLYENV=window.PLOTLYENV || {};\n",
       "                    \n",
       "                if (document.getElementById(\"6e989614-2d41-49a9-bb83-4b002dd4ce2f\")) {\n",
       "                    Plotly.newPlot(\n",
       "                        '6e989614-2d41-49a9-bb83-4b002dd4ce2f',\n",
       "                        [{\"marker\": {\"color\": [0.0004103841098142345, 0.0006106860367380346, 0.0009150539343833182, 0.001207482177366205, 0.0013460631152604036, 0.0017826629632753798, 0.00198861101967581, 0.0022300683149961377, 0.002233708902779629, 0.002334136671310185, 0.0023895562973426797, 0.002474218227498505, 0.0024902221111195305, 0.003965336318280382, 0.004593581450746388, 0.004731938417326481, 0.006908613326149673, 0.007895833601363964, 0.008113718360158098, 0.008684059902365282, 0.00908463996951658, 0.009258099279449105, 0.009487899915921227, 0.010449328157024413, 0.010701116541925317, 0.010828867449049576, 0.011370980349247908, 0.011618205210900954, 0.011893215283430531, 0.012006358062937714, 0.012096756254500617, 0.013986149235899935, 0.014095019379364334, 0.014594097319926148, 0.0155444574347585, 0.01569230358768901, 0.01647449015051489, 0.017004242173101362, 0.017140261645788708, 0.018001347113009044, 0.018310828041094917, 0.01881921611035361, 0.018992794776938837, 0.022537754820251884, 0.025684911534433655, 0.02618539878898033, 0.026268435655700268, 0.02958316087023743, 0.029584035648845645, 0.03478523266666995, 0.038297299857715336, 0.04050054426427717, 0.05752432238348098, 0.0754584750251459, 0.07915580048493567, 0.12967801929903222], \"reversescale\": true}, \"name\": \"Random Forest Feature importance\", \"orientation\": \"h\", \"type\": \"bar\", \"x\": [0.0004103841098142345, 0.0006106860367380346, 0.0009150539343833182, 0.001207482177366205, 0.0013460631152604036, 0.0017826629632753798, 0.00198861101967581, 0.0022300683149961377, 0.002233708902779629, 0.002334136671310185, 0.0023895562973426797, 0.002474218227498505, 0.0024902221111195305, 0.003965336318280382, 0.004593581450746388, 0.004731938417326481, 0.006908613326149673, 0.007895833601363964, 0.008113718360158098, 0.008684059902365282, 0.00908463996951658, 0.009258099279449105, 0.009487899915921227, 0.010449328157024413, 0.010701116541925317, 0.010828867449049576, 0.011370980349247908, 0.011618205210900954, 0.011893215283430531, 0.012006358062937714, 0.012096756254500617, 0.013986149235899935, 0.014095019379364334, 0.014594097319926148, 0.0155444574347585, 0.01569230358768901, 0.01647449015051489, 0.017004242173101362, 0.017140261645788708, 0.018001347113009044, 0.018310828041094917, 0.01881921611035361, 0.018992794776938837, 0.022537754820251884, 0.025684911534433655, 0.02618539878898033, 0.026268435655700268, 0.02958316087023743, 0.029584035648845645, 0.03478523266666995, 0.038297299857715336, 0.04050054426427717, 0.05752432238348098, 0.0754584750251459, 0.07915580048493567, 0.12967801929903222], \"y\": [\"ps_ind_10_bin\", \"ps_ind_13_bin\", \"ps_ind_11_bin\", \"ps_ind_12_bin\", \"ps_calc_15_bin\", \"ps_calc_20_bin\", \"ps_ind_18_bin\", \"ps_calc_18_bin\", \"ps_car_10_cat\", \"ps_calc_16_bin\", \"ps_ind_14\", \"ps_calc_19_bin\", \"ps_calc_17_bin\", \"ps_ind_09_bin\", \"ps_car_08_cat\", \"ps_ind_08_bin\", \"ps_car_11\", \"ps_calc_04\", \"ps_car_05_cat\", \"ps_calc_09\", \"ps_car_09_cat\", \"ps_calc_06\", \"ps_calc_12\", \"ps_car_02_cat\", \"ps_calc_05\", \"ps_calc_07\", \"ps_calc_08\", \"ps_calc_02\", \"ps_calc_13\", \"ps_calc_01\", \"ps_calc_03\", \"ps_ind_02_cat\", \"ps_car_11_cat\", \"ps_car_06_cat\", \"ps_reg_01\", \"ps_ind_16_bin\", \"ps_calc_14\", \"ps_calc_11\", \"ps_ind_01\", \"ps_calc_10\", \"ps_ind_04_cat\", \"ps_ind_06_bin\", \"ps_car_15\", \"ps_ind_07_bin\", \"ps_car_12\", \"ps_ind_15\", \"ps_car_01_cat\", \"ps_car_14\", \"ps_car_04_cat\", \"ps_car_07_cat\", \"ps_ind_03\", \"ps_reg_02\", \"ps_ind_17_bin\", \"ps_reg_03\", \"ps_ind_05_cat\", \"ps_car_13\"]}],\n",
       "                        {\"height\": 1500, \"template\": {\"data\": {\"bar\": [{\"error_x\": {\"color\": \"#2a3f5f\"}, \"error_y\": {\"color\": \"#2a3f5f\"}, \"marker\": {\"line\": {\"color\": \"#E5ECF6\", \"width\": 0.5}}, \"type\": \"bar\"}], \"barpolar\": [{\"marker\": {\"line\": {\"color\": \"#E5ECF6\", \"width\": 0.5}}, \"type\": \"barpolar\"}], \"carpet\": [{\"aaxis\": {\"endlinecolor\": \"#2a3f5f\", \"gridcolor\": \"white\", \"linecolor\": \"white\", \"minorgridcolor\": \"white\", \"startlinecolor\": \"#2a3f5f\"}, \"baxis\": {\"endlinecolor\": \"#2a3f5f\", \"gridcolor\": \"white\", \"linecolor\": \"white\", \"minorgridcolor\": \"white\", \"startlinecolor\": \"#2a3f5f\"}, \"type\": \"carpet\"}], \"choropleth\": [{\"colorbar\": {\"outlinewidth\": 0, \"ticks\": \"\"}, \"type\": \"choropleth\"}], \"contour\": [{\"colorbar\": {\"outlinewidth\": 0, \"ticks\": \"\"}, \"colorscale\": [[0.0, \"#0d0887\"], [0.1111111111111111, \"#46039f\"], [0.2222222222222222, \"#7201a8\"], [0.3333333333333333, \"#9c179e\"], [0.4444444444444444, \"#bd3786\"], [0.5555555555555556, \"#d8576b\"], [0.6666666666666666, \"#ed7953\"], [0.7777777777777778, \"#fb9f3a\"], [0.8888888888888888, \"#fdca26\"], [1.0, \"#f0f921\"]], \"type\": \"contour\"}], \"contourcarpet\": [{\"colorbar\": {\"outlinewidth\": 0, \"ticks\": \"\"}, \"type\": \"contourcarpet\"}], \"heatmap\": [{\"colorbar\": {\"outlinewidth\": 0, \"ticks\": \"\"}, \"colorscale\": [[0.0, \"#0d0887\"], [0.1111111111111111, \"#46039f\"], [0.2222222222222222, \"#7201a8\"], [0.3333333333333333, \"#9c179e\"], [0.4444444444444444, \"#bd3786\"], [0.5555555555555556, \"#d8576b\"], [0.6666666666666666, \"#ed7953\"], [0.7777777777777778, \"#fb9f3a\"], [0.8888888888888888, \"#fdca26\"], [1.0, \"#f0f921\"]], \"type\": \"heatmap\"}], \"heatmapgl\": [{\"colorbar\": {\"outlinewidth\": 0, \"ticks\": \"\"}, \"colorscale\": [[0.0, \"#0d0887\"], [0.1111111111111111, \"#46039f\"], [0.2222222222222222, \"#7201a8\"], [0.3333333333333333, \"#9c179e\"], [0.4444444444444444, \"#bd3786\"], [0.5555555555555556, \"#d8576b\"], [0.6666666666666666, \"#ed7953\"], [0.7777777777777778, \"#fb9f3a\"], [0.8888888888888888, \"#fdca26\"], [1.0, \"#f0f921\"]], \"type\": \"heatmapgl\"}], \"histogram\": [{\"marker\": {\"colorbar\": {\"outlinewidth\": 0, \"ticks\": \"\"}}, \"type\": \"histogram\"}], \"histogram2d\": [{\"colorbar\": {\"outlinewidth\": 0, \"ticks\": \"\"}, \"colorscale\": [[0.0, \"#0d0887\"], [0.1111111111111111, \"#46039f\"], [0.2222222222222222, \"#7201a8\"], [0.3333333333333333, \"#9c179e\"], [0.4444444444444444, \"#bd3786\"], [0.5555555555555556, \"#d8576b\"], [0.6666666666666666, \"#ed7953\"], [0.7777777777777778, \"#fb9f3a\"], [0.8888888888888888, \"#fdca26\"], [1.0, \"#f0f921\"]], \"type\": \"histogram2d\"}], \"histogram2dcontour\": [{\"colorbar\": {\"outlinewidth\": 0, \"ticks\": \"\"}, \"colorscale\": [[0.0, \"#0d0887\"], [0.1111111111111111, \"#46039f\"], [0.2222222222222222, \"#7201a8\"], [0.3333333333333333, \"#9c179e\"], [0.4444444444444444, \"#bd3786\"], [0.5555555555555556, \"#d8576b\"], [0.6666666666666666, \"#ed7953\"], [0.7777777777777778, \"#fb9f3a\"], [0.8888888888888888, \"#fdca26\"], [1.0, \"#f0f921\"]], \"type\": \"histogram2dcontour\"}], \"mesh3d\": [{\"colorbar\": {\"outlinewidth\": 0, \"ticks\": \"\"}, \"type\": \"mesh3d\"}], \"parcoords\": [{\"line\": {\"colorbar\": {\"outlinewidth\": 0, \"ticks\": \"\"}}, \"type\": \"parcoords\"}], \"pie\": [{\"automargin\": true, \"type\": \"pie\"}], \"scatter\": [{\"marker\": {\"colorbar\": {\"outlinewidth\": 0, \"ticks\": \"\"}}, \"type\": \"scatter\"}], \"scatter3d\": [{\"line\": {\"colorbar\": {\"outlinewidth\": 0, \"ticks\": \"\"}}, \"marker\": {\"colorbar\": {\"outlinewidth\": 0, \"ticks\": \"\"}}, \"type\": \"scatter3d\"}], \"scattercarpet\": [{\"marker\": {\"colorbar\": {\"outlinewidth\": 0, \"ticks\": \"\"}}, \"type\": \"scattercarpet\"}], \"scattergeo\": [{\"marker\": {\"colorbar\": {\"outlinewidth\": 0, \"ticks\": \"\"}}, \"type\": \"scattergeo\"}], \"scattergl\": [{\"marker\": {\"colorbar\": {\"outlinewidth\": 0, \"ticks\": \"\"}}, \"type\": \"scattergl\"}], \"scattermapbox\": [{\"marker\": {\"colorbar\": {\"outlinewidth\": 0, \"ticks\": \"\"}}, \"type\": \"scattermapbox\"}], \"scatterpolar\": [{\"marker\": {\"colorbar\": {\"outlinewidth\": 0, \"ticks\": \"\"}}, \"type\": \"scatterpolar\"}], \"scatterpolargl\": [{\"marker\": {\"colorbar\": {\"outlinewidth\": 0, \"ticks\": \"\"}}, \"type\": \"scatterpolargl\"}], \"scatterternary\": [{\"marker\": {\"colorbar\": {\"outlinewidth\": 0, \"ticks\": \"\"}}, \"type\": \"scatterternary\"}], \"surface\": [{\"colorbar\": {\"outlinewidth\": 0, \"ticks\": \"\"}, \"colorscale\": [[0.0, \"#0d0887\"], [0.1111111111111111, \"#46039f\"], [0.2222222222222222, \"#7201a8\"], [0.3333333333333333, \"#9c179e\"], [0.4444444444444444, \"#bd3786\"], [0.5555555555555556, \"#d8576b\"], [0.6666666666666666, \"#ed7953\"], [0.7777777777777778, \"#fb9f3a\"], [0.8888888888888888, \"#fdca26\"], [1.0, \"#f0f921\"]], \"type\": \"surface\"}], \"table\": [{\"cells\": {\"fill\": {\"color\": \"#EBF0F8\"}, \"line\": {\"color\": \"white\"}}, \"header\": {\"fill\": {\"color\": \"#C8D4E3\"}, \"line\": {\"color\": \"white\"}}, \"type\": \"table\"}]}, \"layout\": {\"annotationdefaults\": {\"arrowcolor\": \"#2a3f5f\", \"arrowhead\": 0, \"arrowwidth\": 1}, \"coloraxis\": {\"colorbar\": {\"outlinewidth\": 0, \"ticks\": \"\"}}, \"colorscale\": {\"diverging\": [[0, \"#8e0152\"], [0.1, \"#c51b7d\"], [0.2, \"#de77ae\"], [0.3, \"#f1b6da\"], [0.4, \"#fde0ef\"], [0.5, \"#f7f7f7\"], [0.6, \"#e6f5d0\"], [0.7, \"#b8e186\"], [0.8, \"#7fbc41\"], [0.9, \"#4d9221\"], [1, \"#276419\"]], \"sequential\": [[0.0, \"#0d0887\"], [0.1111111111111111, \"#46039f\"], [0.2222222222222222, \"#7201a8\"], [0.3333333333333333, \"#9c179e\"], [0.4444444444444444, \"#bd3786\"], [0.5555555555555556, \"#d8576b\"], [0.6666666666666666, \"#ed7953\"], [0.7777777777777778, \"#fb9f3a\"], [0.8888888888888888, \"#fdca26\"], [1.0, \"#f0f921\"]], \"sequentialminus\": [[0.0, \"#0d0887\"], [0.1111111111111111, \"#46039f\"], [0.2222222222222222, \"#7201a8\"], [0.3333333333333333, \"#9c179e\"], [0.4444444444444444, \"#bd3786\"], [0.5555555555555556, \"#d8576b\"], [0.6666666666666666, \"#ed7953\"], [0.7777777777777778, \"#fb9f3a\"], [0.8888888888888888, \"#fdca26\"], [1.0, \"#f0f921\"]]}, \"colorway\": [\"#636efa\", \"#EF553B\", \"#00cc96\", \"#ab63fa\", \"#FFA15A\", \"#19d3f3\", \"#FF6692\", \"#B6E880\", \"#FF97FF\", \"#FECB52\"], \"font\": {\"color\": \"#2a3f5f\"}, \"geo\": {\"bgcolor\": \"white\", \"lakecolor\": \"white\", \"landcolor\": \"#E5ECF6\", \"showlakes\": true, \"showland\": true, \"subunitcolor\": \"white\"}, \"hoverlabel\": {\"align\": \"left\"}, \"hovermode\": \"closest\", \"mapbox\": {\"style\": \"light\"}, \"paper_bgcolor\": \"white\", \"plot_bgcolor\": \"#E5ECF6\", \"polar\": {\"angularaxis\": {\"gridcolor\": \"white\", \"linecolor\": \"white\", \"ticks\": \"\"}, \"bgcolor\": \"#E5ECF6\", \"radialaxis\": {\"gridcolor\": \"white\", \"linecolor\": \"white\", \"ticks\": \"\"}}, \"scene\": {\"xaxis\": {\"backgroundcolor\": \"#E5ECF6\", \"gridcolor\": \"white\", \"gridwidth\": 2, \"linecolor\": \"white\", \"showbackground\": true, \"ticks\": \"\", \"zerolinecolor\": \"white\"}, \"yaxis\": {\"backgroundcolor\": \"#E5ECF6\", \"gridcolor\": \"white\", \"gridwidth\": 2, \"linecolor\": \"white\", \"showbackground\": true, \"ticks\": \"\", \"zerolinecolor\": \"white\"}, \"zaxis\": {\"backgroundcolor\": \"#E5ECF6\", \"gridcolor\": \"white\", \"gridwidth\": 2, \"linecolor\": \"white\", \"showbackground\": true, \"ticks\": \"\", \"zerolinecolor\": \"white\"}}, \"shapedefaults\": {\"line\": {\"color\": \"#2a3f5f\"}}, \"ternary\": {\"aaxis\": {\"gridcolor\": \"white\", \"linecolor\": \"white\", \"ticks\": \"\"}, \"baxis\": {\"gridcolor\": \"white\", \"linecolor\": \"white\", \"ticks\": \"\"}, \"bgcolor\": \"#E5ECF6\", \"caxis\": {\"gridcolor\": \"white\", \"linecolor\": \"white\", \"ticks\": \"\"}}, \"title\": {\"x\": 0.05}, \"xaxis\": {\"automargin\": true, \"gridcolor\": \"white\", \"linecolor\": \"white\", \"ticks\": \"\", \"title\": {\"standoff\": 15}, \"zerolinecolor\": \"white\", \"zerolinewidth\": 2}, \"yaxis\": {\"automargin\": true, \"gridcolor\": \"white\", \"linecolor\": \"white\", \"ticks\": \"\", \"title\": {\"standoff\": 15}, \"zerolinecolor\": \"white\", \"zerolinewidth\": 2}}}, \"title\": {\"text\": \"Ranking of most influential features\"}, \"width\": 900, \"yaxis\": {\"showgrid\": false, \"showline\": false, \"showticklabels\": true}},\n",
       "                        {\"responsive\": true}\n",
       "                    ).then(function(){\n",
       "                            \n",
       "var gd = document.getElementById('6e989614-2d41-49a9-bb83-4b002dd4ce2f');\n",
       "var x = new MutationObserver(function (mutations, observer) {{\n",
       "        var display = window.getComputedStyle(gd).display;\n",
       "        if (!display || display === 'none') {{\n",
       "            console.log([gd, 'removed!']);\n",
       "            Plotly.purge(gd);\n",
       "            observer.disconnect();\n",
       "        }}\n",
       "}});\n",
       "\n",
       "// Listen for the removal of the full notebook cells\n",
       "var notebookContainer = gd.closest('#notebook-container');\n",
       "if (notebookContainer) {{\n",
       "    x.observe(notebookContainer, {childList: true});\n",
       "}}\n",
       "\n",
       "// Listen for the clearing of the current output cell\n",
       "var outputEl = gd.closest('.output');\n",
       "if (outputEl) {{\n",
       "    x.observe(outputEl, {childList: true});\n",
       "}}\n",
       "\n",
       "                        })\n",
       "                };\n",
       "                });\n",
       "            </script>\n",
       "        </div>"
      ]
     },
     "metadata": {},
     "output_type": "display_data"
    }
   ],
   "source": [
    "##Knowing feature importance indicated by machine learning models can benefit you in multiple ways, for example:\n",
    "#by getting a better understanding of the model’s logic you can not only verify it being correct but also work on\n",
    "#improving the model by focusing only on the important variables the above can be used for variable selection \n",
    "#you can remove x variables that are not that significant and have similar or better performance in much shorter training time\n",
    "#in some business cases it makes sense to sacrifice some accuracy for the sake of interpretability\n",
    "\n",
    "x, y = (list(x) for x in zip(*sorted(zip(clf.feature_importances_, features), \n",
    "                                                            reverse = False)))\n",
    "trace2 = go.Bar(\n",
    "    x=x ,\n",
    "    y=y,\n",
    "    marker=dict(\n",
    "        color=x,\n",
    "        colorscale = None,\n",
    "        reversescale = True\n",
    "    ),\n",
    "    name='Random Forest Feature importance',\n",
    "    orientation='h',\n",
    ")\n",
    "\n",
    "layout = dict(\n",
    "    title='Ranking of most influential features',\n",
    "     width = 900, height = 1500,\n",
    "    yaxis=dict(\n",
    "        showgrid=False,\n",
    "        showline=False,\n",
    "        showticklabels=True,\n",
    "    ))\n",
    "\n",
    "fig1 = go.Figure(data=[trace2])\n",
    "fig1['layout'].update(layout)\n",
    "py.iplot(fig1, filename='plots')"
   ]
  },
  {
   "cell_type": "code",
   "execution_count": 25,
   "metadata": {},
   "outputs": [],
   "source": [
    "#Feature selection\n",
    "#I would like to select only the features that have the greatest impact according to the graph above,\n",
    "#with a combination of all features types.\n",
    "feats_to_keep = ['ps_ind_06_bin',\n",
    "                     'ps_car_15',\n",
    "                     'ps_ind_07_bin',\n",
    "                     'ps_car_12',\n",
    "                     'ps_car_01_cat',\n",
    "                     'ps_ind_15',\n",
    "                     'ps_car_14',\n",
    "                     'ps_car_04_cat',\n",
    "                     'ps_car_07_cat',\n",
    "                     'ps_ind_03',\n",
    "                     'ps_reg_02',\n",
    "                     'ps_ind_17_bin',\n",
    "                     'ps_reg_03',\n",
    "                     'ps_ind_05_cat',\n",
    "                     'ps_car_13']"
   ]
  },
  {
   "cell_type": "code",
   "execution_count": 26,
   "metadata": {},
   "outputs": [
    {
     "name": "stdout",
     "output_type": "stream",
     "text": [
      "--- Numerical features --- :  \n",
      " ['ps_car_15', 'ps_car_12', 'ps_ind_15', 'ps_car_14', 'ps_ind_03', 'ps_reg_02', 'ps_reg_03', 'ps_car_13'] \n",
      "\n",
      "--- Categorical features --- :  \n",
      " ['ps_car_01_cat', 'ps_car_04_cat', 'ps_car_07_cat', 'ps_ind_05_cat'] \n",
      "\n",
      "--- Binary features --- :  \n",
      " ['ps_ind_06_bin', 'ps_ind_07_bin', 'ps_ind_17_bin'] \n",
      "\n"
     ]
    }
   ],
   "source": [
    "# create new dataframe with only selected features, target and id\n",
    "df_select_feats = df_cleaned[['id', 'target'] + feats_to_keep]\n",
    "\n",
    "# separate col names into categories\n",
    "num_feats_to_keep, cat_feats_to_keep, bin_feats_to_keep = [], [], []\n",
    "\n",
    "for col in feats_to_keep:\n",
    "    if col == 'id' or col == 'target':\n",
    "        pass\n",
    "    elif '_cat' in col:\n",
    "        cat_feats_to_keep.append(col)\n",
    "    elif '_bin' in col:\n",
    "        bin_feats_to_keep.append(col)\n",
    "    else:\n",
    "        num_feats_to_keep.append(col)\n",
    "        \n",
    "print('--- Numerical features --- : ', '\\n', num_feats_to_keep, '\\n')\n",
    "print('--- Categorical features --- : ', '\\n', cat_feats_to_keep, '\\n')\n",
    "print('--- Binary features --- : ', '\\n', bin_feats_to_keep, '\\n')"
   ]
  },
  {
   "cell_type": "code",
   "execution_count": 27,
   "metadata": {},
   "outputs": [],
   "source": [
    "#Feature engineering\n",
    "#We still need to deal with the categorical variables because they cannot read in as they are. We need to create dummy variables\n",
    "#for each feature. This will greatly increase the number of features that we have,so I would like to minimize these features \n",
    "#if I can.\n",
    "df_engineered = df_select_feats.copy()\n"
   ]
  },
  {
   "cell_type": "code",
   "execution_count": 28,
   "metadata": {},
   "outputs": [
    {
     "data": {
      "text/plain": [
       "ps_car_01_cat    13\n",
       "ps_car_04_cat    10\n",
       "ps_car_07_cat     3\n",
       "ps_ind_05_cat     8\n",
       "dtype: int64"
      ]
     },
     "execution_count": 28,
     "metadata": {},
     "output_type": "execute_result"
    }
   ],
   "source": [
    "#We can check how many categories there are for each feature. This way we know which features are going to result in \n",
    "#the most additional features after converting them to dummy variables.\n",
    "df_engineered[cat_feats_to_keep].nunique()"
   ]
  },
  {
   "cell_type": "code",
   "execution_count": 29,
   "metadata": {},
   "outputs": [],
   "source": [
    "# convert cat feats to dummy variables (0s and 1s)\n",
    "cat_dummy_df = pd.get_dummies(df_engineered[cat_feats_to_keep].astype(str))\n",
    "# replacing original cat cols with new dummie cols\n",
    "df_engineered = pd.concat([df_engineered, cat_dummy_df], axis=1).drop(columns=cat_feats_to_keep)"
   ]
  },
  {
   "cell_type": "code",
   "execution_count": 30,
   "metadata": {},
   "outputs": [
    {
     "data": {
      "text/plain": [
       "(595212, 47)"
      ]
     },
     "execution_count": 30,
     "metadata": {},
     "output_type": "execute_result"
    }
   ],
   "source": [
    "df_engineered.shape"
   ]
  },
  {
   "cell_type": "code",
   "execution_count": 31,
   "metadata": {},
   "outputs": [
    {
     "data": {
      "text/plain": [
       "0    573518\n",
       "1     21694\n",
       "Name: target, dtype: int64"
      ]
     },
     "execution_count": 31,
     "metadata": {},
     "output_type": "execute_result"
    }
   ],
   "source": [
    "#Class balancing\n",
    "#1. There is very high imbalance which is evident of the fact that only a small number of people actually file their claim.\n",
    "#2. Accuracy is not a good metric in this case.Recall and F1-Score is a better option.\n",
    "#Before going into feature scaling, I would like to check out the ratio of ones to zeros in the target variable. \n",
    "#The reason I want to do this is because I already know that there is a very large class imbalance.\n",
    "#We would not expect half of the people who are insured to lodge a claim.\n",
    "\n",
    "df_engineered['target'].value_counts()\n",
    "\n",
    "#Sure enough, there are many more zeros. We can either over-sample (duplicate the training examples corresponding to the ones)\n",
    "#or under-sample (remove training examples corresponding to the zeros)."
   ]
  },
  {
   "cell_type": "code",
   "execution_count": 32,
   "metadata": {},
   "outputs": [
    {
     "name": "stdout",
     "output_type": "stream",
     "text": [
      "Ratio of ones to zeros:  3.7826188541597645  %\n"
     ]
    }
   ],
   "source": [
    "# number of zeros\n",
    "num_zeros = (df_engineered['target'] == 0).sum()\n",
    "# number of ones\n",
    "num_ones = (df_engineered['target'] == 1).sum()\n",
    "# difference in the number of zeros and ones\n",
    "diff = num_zeros - num_ones\n",
    "# ratios\n",
    "ones_to_zeros = num_ones / num_zeros\n",
    "zeros_to_ones = num_zeros / num_ones\n",
    "print('Ratio of ones to zeros: ', ones_to_zeros * 100, ' %')"
   ]
  },
  {
   "cell_type": "code",
   "execution_count": 33,
   "metadata": {},
   "outputs": [],
   "source": [
    "rows = len(df)\n",
    "#Sampling from examples with a target of zero\n",
    "#I would like to select a sample that makes up half of the original length of the dataset.\n",
    "df_zeros = df_engineered[df_engineered['target'] == 0]\n",
    "df_zeros_sample = df_zeros.sample(n=int(rows / 2), random_state=42)\n",
    "df_zeros_sample.reset_index(inplace=True, drop=True)"
   ]
  },
  {
   "cell_type": "code",
   "execution_count": 34,
   "metadata": {},
   "outputs": [
    {
     "data": {
      "text/html": [
       "<div>\n",
       "<style scoped>\n",
       "    .dataframe tbody tr th:only-of-type {\n",
       "        vertical-align: middle;\n",
       "    }\n",
       "\n",
       "    .dataframe tbody tr th {\n",
       "        vertical-align: top;\n",
       "    }\n",
       "\n",
       "    .dataframe thead th {\n",
       "        text-align: right;\n",
       "    }\n",
       "</style>\n",
       "<table border=\"1\" class=\"dataframe\">\n",
       "  <thead>\n",
       "    <tr style=\"text-align: right;\">\n",
       "      <th></th>\n",
       "      <th>id</th>\n",
       "      <th>target</th>\n",
       "      <th>ps_ind_06_bin</th>\n",
       "      <th>ps_car_15</th>\n",
       "      <th>ps_ind_07_bin</th>\n",
       "      <th>ps_car_12</th>\n",
       "      <th>ps_ind_15</th>\n",
       "      <th>ps_car_14</th>\n",
       "      <th>ps_ind_03</th>\n",
       "      <th>ps_reg_02</th>\n",
       "      <th>...</th>\n",
       "      <th>ps_car_07_cat_0</th>\n",
       "      <th>ps_car_07_cat_1</th>\n",
       "      <th>ps_ind_05_cat_-1</th>\n",
       "      <th>ps_ind_05_cat_0</th>\n",
       "      <th>ps_ind_05_cat_1</th>\n",
       "      <th>ps_ind_05_cat_2</th>\n",
       "      <th>ps_ind_05_cat_3</th>\n",
       "      <th>ps_ind_05_cat_4</th>\n",
       "      <th>ps_ind_05_cat_5</th>\n",
       "      <th>ps_ind_05_cat_6</th>\n",
       "    </tr>\n",
       "  </thead>\n",
       "  <tbody>\n",
       "    <tr>\n",
       "      <th>0</th>\n",
       "      <td>465947</td>\n",
       "      <td>0</td>\n",
       "      <td>1</td>\n",
       "      <td>0.000000</td>\n",
       "      <td>0</td>\n",
       "      <td>0.624980</td>\n",
       "      <td>5</td>\n",
       "      <td>0.422493</td>\n",
       "      <td>3</td>\n",
       "      <td>0.2</td>\n",
       "      <td>...</td>\n",
       "      <td>0</td>\n",
       "      <td>1</td>\n",
       "      <td>0</td>\n",
       "      <td>1</td>\n",
       "      <td>0</td>\n",
       "      <td>0</td>\n",
       "      <td>0</td>\n",
       "      <td>0</td>\n",
       "      <td>0</td>\n",
       "      <td>0</td>\n",
       "    </tr>\n",
       "    <tr>\n",
       "      <th>1</th>\n",
       "      <td>381915</td>\n",
       "      <td>0</td>\n",
       "      <td>0</td>\n",
       "      <td>3.741657</td>\n",
       "      <td>0</td>\n",
       "      <td>0.316228</td>\n",
       "      <td>6</td>\n",
       "      <td>0.288791</td>\n",
       "      <td>9</td>\n",
       "      <td>0.5</td>\n",
       "      <td>...</td>\n",
       "      <td>0</td>\n",
       "      <td>1</td>\n",
       "      <td>0</td>\n",
       "      <td>1</td>\n",
       "      <td>0</td>\n",
       "      <td>0</td>\n",
       "      <td>0</td>\n",
       "      <td>0</td>\n",
       "      <td>0</td>\n",
       "      <td>0</td>\n",
       "    </tr>\n",
       "    <tr>\n",
       "      <th>2</th>\n",
       "      <td>1060494</td>\n",
       "      <td>0</td>\n",
       "      <td>1</td>\n",
       "      <td>3.464102</td>\n",
       "      <td>0</td>\n",
       "      <td>0.400000</td>\n",
       "      <td>8</td>\n",
       "      <td>0.407431</td>\n",
       "      <td>7</td>\n",
       "      <td>0.8</td>\n",
       "      <td>...</td>\n",
       "      <td>0</td>\n",
       "      <td>1</td>\n",
       "      <td>0</td>\n",
       "      <td>1</td>\n",
       "      <td>0</td>\n",
       "      <td>0</td>\n",
       "      <td>0</td>\n",
       "      <td>0</td>\n",
       "      <td>0</td>\n",
       "      <td>0</td>\n",
       "    </tr>\n",
       "    <tr>\n",
       "      <th>3</th>\n",
       "      <td>469383</td>\n",
       "      <td>0</td>\n",
       "      <td>0</td>\n",
       "      <td>3.000000</td>\n",
       "      <td>1</td>\n",
       "      <td>0.374166</td>\n",
       "      <td>13</td>\n",
       "      <td>0.382099</td>\n",
       "      <td>8</td>\n",
       "      <td>0.4</td>\n",
       "      <td>...</td>\n",
       "      <td>0</td>\n",
       "      <td>1</td>\n",
       "      <td>0</td>\n",
       "      <td>1</td>\n",
       "      <td>0</td>\n",
       "      <td>0</td>\n",
       "      <td>0</td>\n",
       "      <td>0</td>\n",
       "      <td>0</td>\n",
       "      <td>0</td>\n",
       "    </tr>\n",
       "    <tr>\n",
       "      <th>4</th>\n",
       "      <td>491496</td>\n",
       "      <td>0</td>\n",
       "      <td>1</td>\n",
       "      <td>3.741657</td>\n",
       "      <td>0</td>\n",
       "      <td>0.400000</td>\n",
       "      <td>12</td>\n",
       "      <td>0.309677</td>\n",
       "      <td>2</td>\n",
       "      <td>0.2</td>\n",
       "      <td>...</td>\n",
       "      <td>0</td>\n",
       "      <td>1</td>\n",
       "      <td>0</td>\n",
       "      <td>1</td>\n",
       "      <td>0</td>\n",
       "      <td>0</td>\n",
       "      <td>0</td>\n",
       "      <td>0</td>\n",
       "      <td>0</td>\n",
       "      <td>0</td>\n",
       "    </tr>\n",
       "  </tbody>\n",
       "</table>\n",
       "<p>5 rows × 47 columns</p>\n",
       "</div>"
      ],
      "text/plain": [
       "        id  target  ps_ind_06_bin  ps_car_15  ps_ind_07_bin  ps_car_12  \\\n",
       "0   465947       0              1   0.000000              0   0.624980   \n",
       "1   381915       0              0   3.741657              0   0.316228   \n",
       "2  1060494       0              1   3.464102              0   0.400000   \n",
       "3   469383       0              0   3.000000              1   0.374166   \n",
       "4   491496       0              1   3.741657              0   0.400000   \n",
       "\n",
       "   ps_ind_15  ps_car_14  ps_ind_03  ps_reg_02  ...  ps_car_07_cat_0  \\\n",
       "0          5   0.422493          3        0.2  ...                0   \n",
       "1          6   0.288791          9        0.5  ...                0   \n",
       "2          8   0.407431          7        0.8  ...                0   \n",
       "3         13   0.382099          8        0.4  ...                0   \n",
       "4         12   0.309677          2        0.2  ...                0   \n",
       "\n",
       "   ps_car_07_cat_1  ps_ind_05_cat_-1  ps_ind_05_cat_0  ps_ind_05_cat_1  \\\n",
       "0                1                 0                1                0   \n",
       "1                1                 0                1                0   \n",
       "2                1                 0                1                0   \n",
       "3                1                 0                1                0   \n",
       "4                1                 0                1                0   \n",
       "\n",
       "   ps_ind_05_cat_2  ps_ind_05_cat_3  ps_ind_05_cat_4  ps_ind_05_cat_5  \\\n",
       "0                0                0                0                0   \n",
       "1                0                0                0                0   \n",
       "2                0                0                0                0   \n",
       "3                0                0                0                0   \n",
       "4                0                0                0                0   \n",
       "\n",
       "   ps_ind_05_cat_6  \n",
       "0                0  \n",
       "1                0  \n",
       "2                0  \n",
       "3                0  \n",
       "4                0  \n",
       "\n",
       "[5 rows x 47 columns]"
      ]
     },
     "execution_count": 34,
     "metadata": {},
     "output_type": "execute_result"
    }
   ],
   "source": [
    "df_zeros_sample.head()"
   ]
  },
  {
   "cell_type": "code",
   "execution_count": 35,
   "metadata": {},
   "outputs": [],
   "source": [
    "#Duplicating examples with a target of one\n",
    "#I will duplicate all of the examples corresponding to ones.\n",
    "df_ones = df_engineered[df_engineered['target'] == 1]\n",
    "# Adds duplicates of the ones set until half of the dataset is occupied\n",
    "df_ones_dup = pd.DataFrame()\n",
    "for i in range(int((rows / 2) / num_ones)):\n",
    "    df_ones_dup = df_ones_dup.append(df_ones)"
   ]
  },
  {
   "cell_type": "code",
   "execution_count": 36,
   "metadata": {},
   "outputs": [],
   "source": [
    "#Combining examples into one dataset\n",
    "df_rebalanced = pd.concat([df_zeros_sample, df_ones_dup])\n",
    "df_rebalanced = df_rebalanced.sample(frac=1).reset_index(drop=True)"
   ]
  },
  {
   "cell_type": "code",
   "execution_count": 37,
   "metadata": {},
   "outputs": [
    {
     "data": {
      "text/plain": [
       "(579628, 47)"
      ]
     },
     "execution_count": 37,
     "metadata": {},
     "output_type": "execute_result"
    }
   ],
   "source": [
    "df_rebalanced.shape"
   ]
  },
  {
   "cell_type": "code",
   "execution_count": 38,
   "metadata": {},
   "outputs": [],
   "source": [
    "#The number of rows is similar to what we started with.\n",
    "\n",
    "#Feature scaling\n",
    "#Scaling features tends to lead to a performance improvement with classification problems, so we will do it here.\n",
    "\n",
    "df_scaled = df_rebalanced.copy()\n",
    "df_scaled.drop(columns=['target', 'id'], inplace=True)\n",
    "# Set up scaler and create a scaled input matrix\n",
    "scaler = MinMaxScaler()\n",
    "# MinMaxScalar outputs data as a numpy array (which is necessary for XGBoost)\n",
    "X_scaled = scaler.fit_transform(df_scaled)"
   ]
  },
  {
   "cell_type": "markdown",
   "metadata": {},
   "source": [
    "# 1.The Simple Logistic Regression Model seems to have high accuracy. Is that what we need at all? What is the problem with this model? \n",
    "\n",
    "Here , we have a scenario where the number of observations belonging to one class is significantly lower than those belonging to the other classes ( 0 and 1) Which we call it as Im_balanced target variable . \n",
    "\n",
    "So , it involves first using a classification model to make a prediction for each example in a test dataset. The predictions are then compared to the known labels for those examples in the test set. Accuracy is then calculated as the proportion of examples in the test set that were predicted correctly, divided by all predictions that were made on the test set.\n",
    "\n",
    "#Accuracy = Correct Predictions / Total Predictions\n",
    "\n",
    "So , Classification accuracy fails on classification problems with a skewed class distribution because of the intuitions developed by practitioners on datasets with an equal class distribution.\n",
    "\n",
    "No , im my model building i have XGBOOST and MLP Classifier performed better than Logistic regression.\n",
    "\n",
    "F1-score: This is the harmonic mean of Precision and Recall and gives a better measure of the incorrectly classified cases than the Accuracy Metric.\n",
    "\n",
    "\n",
    "# 2. Why do you think f1-score is 0.0? \n",
    "No , here F1-Score is not 0. Yes , it becomes zero \n",
    "\n",
    "F1_Score:\n",
    "\n",
    "As The F1 score is the harmonic mean of precision and recall taking both metrics into account in the following equation:\n",
    "\n",
    "We use the harmonic mean instead of a simple average because it punishes extreme values. A classifier with a precision of 1.0 and a recall of 0.0 has a simple average of 0.5 but an F1 score of 0. The F1 score gives equal weight to both measures and is a specific example of the general metric which can be adjusted to give more weight to either recall or precision. (There are other metrics for combining precision and recall, such as the Geometric Mean of precision and recall, but the F1 score is the most commonly used.) If we want to create a balanced classification model with the optimal balance of recall and precision, then we try to maximize the F1 score.\n",
    "\n",
    "# 3.What is the precision and recall score for the model? \n",
    "Precision quantifies the number of positive class predictions that actually belong to the positive class. Recall quantifies the number of positive class predictions made out of all positive examples in the dataset.\n",
    "\n",
    "For Logistic Regression Precison and Recall Score are in the below matrix output .\n",
    "\n",
    "#The F1 score can be interpreted as a weighted average of the precision and recall, where an F1 score reaches its best value at 1 and worst score at 0. The relative contribution of precision and recall to the F1 score are equal. The formula for the F1 score is:\n",
    "\n",
    "#F1 = 2 * (precision * recall) / (precision + recall)\n",
    "\n"
   ]
  },
  {
   "cell_type": "code",
   "execution_count": null,
   "metadata": {},
   "outputs": [],
   "source": [
    "# Choosen Models:\n",
    "#Logistic Regression is used when the dependent variable(target) is categorical.\n",
    "#XGBoost : learning_ratefloat, default=0.1 learning rate shrinks the contribution of each tree by learning_rate. \n",
    "#There is a trade-off between learning_rate and n_estimators.\n",
    "\n",
    "n_estimatorsint, default=100\n",
    "\n",
    "#The number of boosting stages to perform. Gradient boosting is fairly robust to over-fitting so a large number usually \n",
    "#results in better performance\n",
    "\n",
    "max_depthint, default=3\n",
    "\n",
    "#maximum depth of the individual regression estimators. The maximum depth limits the number of nodes in the tree. \n",
    "#Tune this parameter for best performance; the best value depends on the interaction of the input variables."
   ]
  },
  {
   "cell_type": "code",
   "execution_count": 43,
   "metadata": {},
   "outputs": [
    {
     "name": "stdout",
     "output_type": "stream",
     "text": [
      "\n",
      "++++++++++++++ LogReg ++++++++++++++\n",
      "\n",
      "\n",
      "--- Training model using LogReg ---\n"
     ]
    },
    {
     "name": "stderr",
     "output_type": "stream",
     "text": [
      "E:\\Conda\\lib\\site-packages\\sklearn\\linear_model\\_logistic.py:764: ConvergenceWarning:\n",
      "\n",
      "lbfgs failed to converge (status=1):\n",
      "STOP: TOTAL NO. of ITERATIONS REACHED LIMIT.\n",
      "\n",
      "Increase the number of iterations (max_iter) or scale the data as shown in:\n",
      "    https://scikit-learn.org/stable/modules/preprocessing.html\n",
      "Please also refer to the documentation for alternative solver options:\n",
      "    https://scikit-learn.org/stable/modules/linear_model.html#logistic-regression\n",
      "\n"
     ]
    },
    {
     "name": "stdout",
     "output_type": "stream",
     "text": [
      "=== DONE ===\n",
      "\n",
      "\n",
      "               precision    recall  f1-score   support\n",
      "\n",
      "           0       0.59      0.67      0.63     59421\n",
      "           1       0.59      0.50      0.54     56505\n",
      "\n",
      "    accuracy                           0.59    115926\n",
      "   macro avg       0.59      0.59      0.58    115926\n",
      "weighted avg       0.59      0.59      0.59    115926\n",
      " \n",
      "\n",
      "\n",
      "++++++++++++++ XGBoost ++++++++++++++\n",
      "\n",
      "\n",
      "--- Training model using XGBoost ---\n",
      "=== DONE ===\n",
      "\n",
      "\n",
      "               precision    recall  f1-score   support\n",
      "\n",
      "           0       0.61      0.68      0.65     59421\n",
      "           1       0.62      0.54      0.58     56505\n",
      "\n",
      "    accuracy                           0.62    115926\n",
      "   macro avg       0.62      0.61      0.61    115926\n",
      "weighted avg       0.62      0.62      0.61    115926\n",
      " \n",
      "\n",
      "\n",
      "++++++++++++++ LinearSVC ++++++++++++++\n",
      "\n",
      "\n",
      "--- Training model using LinearSVC ---\n",
      "=== DONE ===\n",
      "\n",
      "\n",
      "               precision    recall  f1-score   support\n",
      "\n",
      "           0       0.59      0.68      0.63     59421\n",
      "           1       0.59      0.50      0.54     56505\n",
      "\n",
      "    accuracy                           0.59    115926\n",
      "   macro avg       0.59      0.59      0.58    115926\n",
      "weighted avg       0.59      0.59      0.59    115926\n",
      " \n",
      "\n",
      "\n",
      "++++++++++++++ MLPClassifier ++++++++++++++\n",
      "\n",
      "\n",
      "--- Training model using MLPClassifier ---\n",
      "=== DONE ===\n",
      "\n",
      "\n",
      "               precision    recall  f1-score   support\n",
      "\n",
      "           0       0.60      0.68      0.64     59421\n",
      "           1       0.61      0.52      0.56     56505\n",
      "\n",
      "    accuracy                           0.60    115926\n",
      "   macro avg       0.60      0.60      0.60    115926\n",
      "weighted avg       0.60      0.60      0.60    115926\n",
      " \n",
      "\n",
      "\n",
      "++++++++++++++ AdaBoost ++++++++++++++\n",
      "\n",
      "\n",
      "--- Training model using AdaBoost ---\n",
      "=== DONE ===\n",
      "\n",
      "\n",
      "               precision    recall  f1-score   support\n",
      "\n",
      "           0       0.59      0.66      0.63     59421\n",
      "           1       0.60      0.52      0.56     56505\n",
      "\n",
      "    accuracy                           0.59    115926\n",
      "   macro avg       0.59      0.59      0.59    115926\n",
      "weighted avg       0.59      0.59      0.59    115926\n",
      " \n",
      "\n"
     ]
    }
   ],
   "source": [
    "X = X_scaled\n",
    "# y needs to be converted to an array\n",
    "y = df_rebalanced['target'].to_numpy()\n",
    "# split up the data and target values\n",
    "X_train, X_test, y_train, y_test = train_test_split(X, y, test_size=0.2)\n",
    "\n",
    "models = []\n",
    "models.append(('LogReg', LogisticRegression()))\n",
    "models.append(('XGBoost', XGBClassifier(learning_rate =0.1,n_estimators=100,max_depth=5,min_child_weight=1,gamma=0,subsample=0.8,colsample_bytree=0.8,objective= 'binary:logistic',nthread=4,scale_pos_weight=1,seed=27)))\n",
    "models.append(('LinearSVC',LinearSVC(dual = True,max_iter=1000)))\n",
    "models.append(('MLPClassifier',MLPClassifier(hidden_layer_sizes=(10, ), activation='relu', solver='adam', alpha=0.0001, \n",
    "                                             batch_size='auto', \n",
    "                                             learning_rate='constant', learning_rate_init=0.001)))\n",
    "models.append(('AdaBoost',AdaBoostClassifier(base_estimator=None, n_estimators=50, \n",
    "                                             learning_rate=1.0, random_state=None)))\n",
    "\n",
    "for name, model in models:\n",
    "    print('\\n++++++++++++++ {} ++++++++++++++\\n'.format(name))\n",
    "\n",
    "    # Train model\n",
    "    print('\\n--- Training model using {} ---'.format(name))\n",
    "    model.fit(X_train, y_train)\n",
    "    print('=== DONE ===\\n')\n",
    "    \n",
    "    # Save model\n",
    "    joblib.dump(model, '{}_model_trained.pkl'.format(name))\n",
    "    \n",
    "    # Make predictions on the test-set\n",
    "    y_pred = model.predict(X_test)\n",
    "\n",
    "    # Classification report\n",
    "    report = classification_report(y_test, y_pred)\n",
    "    print('\\n', report, '\\n')"
   ]
  },
  {
   "cell_type": "markdown",
   "metadata": {},
   "source": [
    "# 4. What is the most important inference you can draw from the result? \n",
    "#Modelling\n",
    "After a thorough EDA and preprocessing, data is ready to be fed into a machine learning model. A model also has to be hyper tuned properly for it to produce the best results. Sometimes complicated models are required for a problem but sometimes a simple model does the job for you. Therefore, it has to be seen through experimentation which model work the best. \n",
    "All the hyper-parameter tuning for the below models was done manually because of the computational overheads . Also manual tuning gave more insight on how the model behaved with small changes in the parameters. The code snippets above are only the final stages of the tuning process.\n",
    "\n",
    "#Feature Selection\n",
    "This step allows us to remove features from the dataset which does not provide any value in prediction for a particular model. This in-turn improves the computational speed and can also increase our model performance for different models.Only the features selected from the feature selection process were used for each of the base models. This helped in improving the final score of the model.\n",
    "\n",
    "#Results\n",
    "Out of all the models XGBoost was the best performing one followed by MLP and Adaboost. Thus those two were taken for the final stack. It is a good practice to try simple models first but in this case they didn’t work well"
   ]
  },
  {
   "cell_type": "markdown",
   "metadata": {},
   "source": [
    "# 5. What is the accuracy score and f1-score for the improved Logistic Regression model? \n",
    "The accuracy score and F-score for logistic model is 63 and 59 which in matrix as above."
   ]
  },
  {
   "cell_type": "markdown",
   "metadata": {},
   "source": [
    "# 6. Why do you think f1-score has improved?\n",
    "Without having access to the dataset, I'm unable to give exact pointers; so I'm suggesting a few directions to approach this problem and help improve the F1 score:\n",
    "\n",
    "Use better features, sometimes a domain expert (specific to the problem you're trying to solve) can give relevant pointers that can result in significant improvements. As , I tried to do some feature engineering .\n",
    "\n",
    "Use a better classification algorithm and better hyper-parameters.\n",
    "\n",
    "#Further to do :SMOTE \n",
    "Over-sample the minority class, and/or under-sample the majority class to reduce the class imbalance.Use higher weights for the minority class, although I've found over-under sampling to be more effective than using weights."
   ]
  },
  {
   "cell_type": "markdown",
   "metadata": {},
   "source": [
    "# 7. For model LinearSVC play with parameters – _dual, max_iter and see if there is any improvement \n",
    "\n",
    "Yes , there is a little bit of change in F1_Score when the max_iter parameter changed from 100 to 100 . And most of the cases LinearSVC needs high number of iterations. "
   ]
  },
  {
   "cell_type": "markdown",
   "metadata": {},
   "source": [
    "# 9. XGBoost is one the better classifiers -- but still f1-score is very low. What could be the reason? \n",
    "\n",
    "It's not exactly low compared to MLP classifier or AdaBoost . The low F1_score may occur when the parameters are not taken properly . I considered the parameters to build the best classifier for XGBoost are:\n",
    "\n",
    "learning_rate =0.1,n_estimators=100,max_depth=5,min_child_weight=1,gamma=0,subsample=0.8,colsample_bytree=0.8,objective= 'binary:logistic',nthread=4,scale_pos_weight=1,seed=27))) . So, it's in tunin the model which gives the goof F1_Score"
   ]
  },
  {
   "cell_type": "markdown",
   "metadata": {},
   "source": [
    "# 11. Is there any improvement in scores after encoding? \n",
    "Mostly , No here we can't see improvement in scores after encoding .Because of the noise generated by the variables . Which will have very less existence in the performance of model building."
   ]
  },
  {
   "cell_type": "markdown",
   "metadata": {},
   "source": [
    "# 12. If not missing a positive sample is the priority which model is best so far? \n",
    "If targeting a metric score then it's good to be with Boosting algorithms or ensembles. But , when business is concerned XGBoost is less reliable and preference after the target distribution will be taken to SVC or Logisti regression mostly.\n",
    "\n",
    "\n",
    "# 13. If not marking negative sample as positive is top priority, which model is best so far? \n",
    "It's preference is based on the Varaible Importance and the conversions and collinearity in the data . As in the dataset we have faced lot many zeros in the set. So which has no high impact in model building.\n"
   ]
  },
  {
   "cell_type": "markdown",
   "metadata": {},
   "source": [
    "# 14. Do you think using AdaBoost can give any significant improvement over XGBoost? \n",
    "No , XG boost works better than adabooost\n",
    "Adaboost and XGBoost are two different ways to derive boosters. Both are generic. I like gradboosting better because it works for generic loss functions, while adaboost is derived mainly for classification with exponential loss. Both of these methods are built based on the idea of converting weak learners to a strong learner by updating based on the residuals (XGBoost) or misclassifications\n"
   ]
  },
  {
   "cell_type": "markdown",
   "metadata": {},
   "source": [
    "# 15. MLPClassifier is the neural network we are trying. But how to choose the right no. of layers and size? \n",
    "The number of hidden neurons should be between the size of the input layer and the size of the output layer. The number of hidden neurons should be 2/3 the size of the input layer, plus the size of the output layer.I considered 10 and 12 as size .But there is no huge difference between the metrics\n",
    "\n",
    "# 16. At what layer size we get the best F1_score\n",
    "\n",
    "Here , it's the 10th layer i got the best f1_Score\n"
   ]
  },
  {
   "cell_type": "code",
   "execution_count": null,
   "metadata": {},
   "outputs": [],
   "source": []
  },
  {
   "cell_type": "code",
   "execution_count": null,
   "metadata": {},
   "outputs": [],
   "source": []
  },
  {
   "cell_type": "code",
   "execution_count": null,
   "metadata": {},
   "outputs": [],
   "source": []
  },
  {
   "cell_type": "code",
   "execution_count": null,
   "metadata": {},
   "outputs": [],
   "source": []
  },
  {
   "cell_type": "code",
   "execution_count": null,
   "metadata": {},
   "outputs": [],
   "source": []
  }
 ],
 "metadata": {
  "kernelspec": {
   "display_name": "Python 3",
   "language": "python",
   "name": "python3"
  },
  "language_info": {
   "codemirror_mode": {
    "name": "ipython",
    "version": 3
   },
   "file_extension": ".py",
   "mimetype": "text/x-python",
   "name": "python",
   "nbconvert_exporter": "python",
   "pygments_lexer": "ipython3",
   "version": "3.7.6"
  }
 },
 "nbformat": 4,
 "nbformat_minor": 4
}
